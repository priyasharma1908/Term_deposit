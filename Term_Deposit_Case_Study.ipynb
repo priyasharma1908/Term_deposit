{
 "cells": [
  {
   "cell_type": "markdown",
   "id": "fc00ca42",
   "metadata": {},
   "source": [
    "# Case Study - Term Deposit\n",
    "\n",
    "**Author:** Priya Sharma\n",
    "\n",
    "**Email:** priyasharma1908@gmail.com"
   ]
  },
  {
   "cell_type": "markdown",
   "id": "2dd4f9bc",
   "metadata": {},
   "source": [
    "## Objective"
   ]
  },
  {
   "cell_type": "markdown",
   "id": "e457a767",
   "metadata": {},
   "source": [
    "The objective of this report is to present the analysis and results from modeling client data to predict if client will subscribe to term deposit.\n",
    "\n",
    "We have followed the **scientific method** for this analysis and have broken down the steps as follows:\n",
    "\n",
    "* **Objective**\n",
    "\n",
    "* **Research**\n",
    "\n",
    "* **Hypothesis**\n",
    "\n",
    "* **Analysis**\n",
    "\n",
    "* **Conclusion**"
   ]
  },
  {
   "cell_type": "code",
   "execution_count": 1,
   "id": "b8066f18",
   "metadata": {},
   "outputs": [],
   "source": [
    "# Loading required packages\n",
    "import numpy as np\n",
    "import pandas as pd\n",
    "import seaborn as sns\n",
    "import matplotlib.pyplot as plt\n",
    "import itertools\n",
    "import shap\n",
    "\n",
    "from dython.nominal import theils_u, correlation_ratio\n",
    "from pandas.api.types import is_numeric_dtype\n",
    "from scipy import stats\n",
    "from sklearn import tree\n",
    "\n",
    "from sklearn.model_selection import train_test_split\n",
    "from sklearn.model_selection import cross_validate\n",
    "from sklearn.model_selection import GridSearchCV\n",
    "from sklearn.preprocessing import MinMaxScaler\n",
    "from sklearn.preprocessing import OrdinalEncoder, LabelEncoder\n",
    "from sklearn.metrics import accuracy_score, precision_score, recall_score, f1_score\n",
    "\n",
    "from sklearn.linear_model import LogisticRegression\n",
    "from sklearn.tree import DecisionTreeClassifier\n",
    "\n",
    "from IPython.display import display, HTML\n",
    "\n",
    "import warnings\n",
    "warnings.filterwarnings('ignore')\n",
    "%matplotlib inline"
   ]
  },
  {
   "cell_type": "code",
   "execution_count": 2,
   "id": "436ff8fc",
   "metadata": {},
   "outputs": [],
   "source": [
    "# Load dataset\n",
    "term_deposit_data = pd.read_csv(\"./bank-additional-full.csv\", sep=\";\")"
   ]
  },
  {
   "cell_type": "markdown",
   "id": "15a0c1ff",
   "metadata": {},
   "source": [
    "## Research"
   ]
  },
  {
   "cell_type": "markdown",
   "id": "ad229dc1",
   "metadata": {},
   "source": [
    "### Term Deposit"
   ]
  },
  {
   "cell_type": "markdown",
   "id": "3731047e",
   "metadata": {},
   "source": [
    "* A term deposit is a type of deposit account held at a financial institution where money is locked up for some set period of time.\n",
    "\n",
    "* Term deposits are usually short-term deposits with maturities ranging from one month to a few years.\n",
    "\n",
    "* Typically, term deposits offer higher interest rates than traditional liquid savings accounts, whereby customers can withdraw their money at any time."
   ]
  },
  {
   "cell_type": "markdown",
   "id": "f00f285e",
   "metadata": {},
   "source": [
    "## User defined functions"
   ]
  },
  {
   "cell_type": "code",
   "execution_count": 3,
   "id": "388febbe",
   "metadata": {},
   "outputs": [],
   "source": [
    "# Utility functions\n",
    "def remove_rows_with_unknowns(df:'pd.DataFrame')->'pd.DataFrame':\n",
    "    \"\"\"\n",
    "    Function to drop rows having 'unknown' values for any variable.\n",
    "    \n",
    "    Args:\n",
    "        df: Dataframe\n",
    "    \n",
    "    Returns:\n",
    "        Dataframe without any 'unknown' values\n",
    "    \"\"\"\n",
    "    return(df[~df.replace('unknown', np.nan).isna().sum(axis=1).astype('bool')])\n",
    "\n",
    "def min_max_scaling(train_df:'pd.DataFrame', test_df:'pd.DataFrame')->'pd.DataFrame':\n",
    "    \"\"\"\n",
    "    Function to scale numeric columns of train and test dataframes using MinMaxScaler\n",
    "    \n",
    "    Args:\n",
    "        train_df: Training dataframe. Scaler will be built using this\n",
    "        test_df: Test dataframe. Scaler built from train would be applied on test\n",
    "        \n",
    "    Returns:\n",
    "        Dataframe with scaled numeric columns\n",
    "    \"\"\"\n",
    "    for column in train_df.columns:\n",
    "        if(is_numeric_dtype(train_df[column])):\n",
    "            scaler = MinMaxScaler()\n",
    "            train_df[column] = scaler.fit_transform(train_df[[column]])\n",
    "            test_df[column] = scaler.transform(test_df[[column]])\n",
    "    return(train_df, test_df)\n",
    "\n",
    "def compute_correlation(df:'pd.DataFrame')->'pd.DataFrame':\n",
    "    \"\"\"\n",
    "    Function to compute correlation values as follows:\n",
    "    - Pearson correlation (numeric-numeric)\n",
    "    - Correlation Ratio (numeric-categorical)\n",
    "    - Theil's U (categorical-categorical)\n",
    "    \n",
    "    Args:\n",
    "        df: Dataset for which to compute correlation matrix\n",
    "        \n",
    "    Returns:\n",
    "        Correlation matrix as dataframe\n",
    "    \"\"\"\n",
    "    # Get list of columns\n",
    "    list_of_columns = df.columns\n",
    "    \n",
    "    # Initialize empty dataframe for correlation matrix\n",
    "    corr_df = pd.DataFrame(index=list_of_columns, columns=list_of_columns)\n",
    "    \n",
    "    # Iterate over each column\n",
    "    for i in range(len(list_of_columns)):\n",
    "        # For each column, iterate over list of columns again to get pair-wise columns\n",
    "        # Note: We are iterating over (i, j) and (j, i) separately as Theil's U is not symmetric\n",
    "        for j in range(len(list_of_columns)):\n",
    "            if is_numeric_dtype(df[list_of_columns[i]]):\n",
    "                if is_numeric_dtype(df[list_of_columns[j]]):\n",
    "                    # Case 1: Both are numeric\n",
    "                    corr_value = np.corrcoef(df[list_of_columns[i]], df[list_of_columns[j]])\n",
    "                    corr_df.loc[list_of_columns[i], list_of_columns[j]] = corr_value[0][1]\n",
    "                else:\n",
    "                    # Case 2: One is categorical\n",
    "                    corr_value = correlation_ratio(df[list_of_columns[j]], df[list_of_columns[i]])\n",
    "                    corr_df.loc[list_of_columns[i], list_of_columns[j]] = corr_value\n",
    "            elif is_numeric_dtype(df[list_of_columns[j]]):\n",
    "                if is_numeric_dtype(df[list_of_columns[i]]):\n",
    "                    # Case 1: Both are numeric\n",
    "                    corr_value = np.corrcoef(df[list_of_columns[i]], df[list_of_columns[j]])\n",
    "                    corr_df.loc[list_of_columns[i], list_of_columns[j]] = corr_value[0][1]\n",
    "                else:\n",
    "                    # Case 2: One is categorical\n",
    "                    corr_value = correlation_ratio(df[list_of_columns[i]], df[list_of_columns[j]])\n",
    "                    corr_df.loc[list_of_columns[i], list_of_columns[j]] = corr_value\n",
    "            else:\n",
    "                # Case 3: Both are categorical\n",
    "                corr_value = theils_u(df[list_of_columns[i]], df[list_of_columns[j]])\n",
    "                corr_df.loc[list_of_columns[i], list_of_columns[j]] = corr_value\n",
    "    return(pd.DataFrame(corr_df.astype('float64').round(2)))\n",
    "\n",
    "def get_model_summary(model:'sklearn.linear_model.LogisticRegression', X:'pd.DataFrame', y:'pd.Series')->'pd.DataFrame':\n",
    "    \"\"\"\n",
    "    Function to compute model summary for sklearn Logistic Regression model as sklearn does not have\n",
    "    implimentation of the same.\n",
    "    \n",
    "    Args:\n",
    "        model: sklearn.linear_model.LogitsticRegression model object\n",
    "        X: DataFrame with independent variables from training set\n",
    "        y: Series with dependent variable from training set\n",
    "        \n",
    "    Returns:\n",
    "        DataFrame containing model summary\n",
    "    \"\"\"\n",
    "    # Extract model parameters\n",
    "    params = np.append(model.intercept_, model.coef_)\n",
    "    \n",
    "    # Make predictions for training set (Fitted values)\n",
    "    predictions = model.predict(X)\n",
    "    \n",
    "    # Original dataset with column 'Constant' for intercept\n",
    "    newX = pd.DataFrame({\n",
    "        \"Constant\": np.ones(len(X))\n",
    "    }).join(pd.DataFrame(X).reset_index(drop=True))\n",
    "    \n",
    "    # Compute t stat and p value\n",
    "    MSE = (sum((y-predictions)**2))/(len(newX)-len(newX.columns))\n",
    "    \n",
    "    var_b = MSE*(np.linalg.inv(np.dot(newX.T,newX)).diagonal())\n",
    "    sd_b = np.sqrt(var_b)\n",
    "    ts_b = params/ sd_b\n",
    "    \n",
    "    p_values =[2*(1-stats.t.cdf(np.abs(i),(len(newX)-len(newX.columns)))) for i in ts_b]\n",
    "    \n",
    "    sd_b = np.round(sd_b,3)\n",
    "    ts_b = np.round(ts_b,3)\n",
    "    p_values = np.round(p_values,3)\n",
    "    params = np.round(params,4)\n",
    "    \n",
    "    # Return model summary as DataFrame\n",
    "    myDF3 = pd.DataFrame(index = newX.columns)\n",
    "    myDF3[\"Coefficients\"],myDF3[\"Standard Errors\"],myDF3[\"t values\"],myDF3[\"Probabilities\"] = [params,sd_b,ts_b,p_values]\n",
    "    \n",
    "    return(myDF3)\n",
    "\n",
    "def missing_value_mode_treatment(train_df:'pd.DataFrame', test_df:'pd.DataFrame')->'tuple':\n",
    "    \"\"\"\n",
    "    Function to impute missing values using mode of the variable.\n",
    "    \n",
    "    Args:\n",
    "        train_df: Training dataset\n",
    "        test_df: Test dataset\n",
    "        \n",
    "    Returns:\n",
    "        Tuple with first element as the treated training dataset and second element as treated test dataset\n",
    "    \"\"\"\n",
    "    # Get columns with unknown values\n",
    "    unknown_count = train_df.replace('unknown', np.nan).isna().sum(axis=0)\n",
    "    unknown_columns = list(unknown_count[unknown_count > 0].index)\n",
    "    \n",
    "    # For each column\n",
    "    for column in unknown_columns:\n",
    "        # Get mode\n",
    "        mode_value = train_df[column].mode()[0]\n",
    "        \n",
    "        # Update unknown with mode in training set\n",
    "        train_df[column] = train_df[column].replace(\"unknown\", np.nan).fillna(mode_value)\n",
    "        \n",
    "        # Update unknown with model in test set\n",
    "        test_df[column] = test_df[column].replace(\"unknown\", np.nan).fillna(mode_value)\n",
    "    return(train_df, test_df)\n",
    "\n",
    "def remove_outliers_iqr(train_x:'pd.DataFrame', test_x:'pd.DataFrame')->'tuple':\n",
    "    \"\"\"\n",
    "    Function to remove outliers using Inter Quartile Range method\n",
    "    \n",
    "    Args:\n",
    "        train_x: Training dataset\n",
    "        test_x: Test dataset\n",
    "        \n",
    "    Returns:\n",
    "        Tuple with first element as the treated training dataset and second element as treated test dataset\n",
    "    \"\"\"\n",
    "    # Compute Q1 and Q3\n",
    "    q1 = np.quantile(train_x, 0.25)\n",
    "    q3 = np.quantile(train_x, 0.75)\n",
    "    \n",
    "    # Compute IQR\n",
    "    iqr = q3 - q1\n",
    "    \n",
    "    # Get upper and lower limits\n",
    "    lower_limit = q1 - 1.5 * iqr\n",
    "    upper_limit = q3 + 1.5 * iqr\n",
    "    \n",
    "    # Cap outliers to upper and lower limits\n",
    "    train_x[train_x < lower_limit] = lower_limit\n",
    "    train_x[train_x > upper_limit] = upper_limit\n",
    "    test_x[test_x < lower_limit] = lower_limit\n",
    "    test_x[test_x > upper_limit] = upper_limit\n",
    "    return(train_x, test_x)"
   ]
  },
  {
   "cell_type": "markdown",
   "id": "bc1efd3a",
   "metadata": {},
   "source": [
    "## Hypothesis"
   ]
  },
  {
   "cell_type": "markdown",
   "id": "f4ff4f0b",
   "metadata": {},
   "source": [
    "The hypothesis for this analysis is as follows:\n",
    "\n",
    "**A combination of CLIENT DATA, LAST CONTACT DATA and ADDITIONAL ATTRIBUTES can be used to predict if client will subscribe to a term deposit.**"
   ]
  },
  {
   "cell_type": "markdown",
   "id": "6c406450",
   "metadata": {},
   "source": [
    "## User defined functions"
   ]
  },
  {
   "cell_type": "code",
   "execution_count": 3,
   "id": "cfac6839",
   "metadata": {},
   "outputs": [],
   "source": [
    "# Utility functions\n",
    "def remove_rows_with_unknowns(df:'pd.DataFrame')->'pd.DataFrame':\n",
    "    \"\"\"\n",
    "    Function to drop rows having 'unknown' values for any variable.\n",
    "    \n",
    "    Args:\n",
    "        df: Dataframe\n",
    "    \n",
    "    Returns:\n",
    "        Dataframe without any 'unknown' values\n",
    "    \"\"\"\n",
    "    return(df[~df.replace('unknown', np.nan).isna().sum(axis=1).astype('bool')])\n",
    "\n",
    "def min_max_scaling(train_df:'pd.DataFrame', test_df:'pd.DataFrame')->'pd.DataFrame':\n",
    "    \"\"\"\n",
    "    Function to scale numeric columns of train and test dataframes using MinMaxScaler\n",
    "    \n",
    "    Args:\n",
    "        train_df: Training dataframe. Scaler will be built using this\n",
    "        test_df: Test dataframe. Scaler built from train would be applied on test\n",
    "        \n",
    "    Returns:\n",
    "        Dataframe with scaled numeric columns\n",
    "    \"\"\"\n",
    "    for column in train_df.columns:\n",
    "        if(is_numeric_dtype(train_df[column])):\n",
    "            scaler = MinMaxScaler()\n",
    "            train_df[column] = scaler.fit_transform(train_df[[column]])\n",
    "            test_df[column] = scaler.transform(test_df[[column]])\n",
    "    return(train_df, test_df)\n",
    "\n",
    "def compute_correlation(df:'pd.DataFrame')->'pd.DataFrame':\n",
    "    \"\"\"\n",
    "    Function to compute correlation values as follows:\n",
    "    - Pearson correlation (numeric-numeric)\n",
    "    - Correlation Ratio (numeric-categorical)\n",
    "    - Theil's U (categorical-categorical)\n",
    "    \n",
    "    Args:\n",
    "        df: Dataset for which to compute correlation matrix\n",
    "        \n",
    "    Returns:\n",
    "        Correlation matrix as dataframe\n",
    "    \"\"\"\n",
    "    # Get list of columns\n",
    "    list_of_columns = df.columns\n",
    "    \n",
    "    # Initialize empty dataframe for correlation matrix\n",
    "    corr_df = pd.DataFrame(index=list_of_columns, columns=list_of_columns)\n",
    "    \n",
    "    # Iterate over each column\n",
    "    for i in range(len(list_of_columns)):\n",
    "        # For each column, iterate over list of columns again to get pair-wise columns\n",
    "        # Note: We are iterating over (i, j) and (j, i) separately as Theil's U is not symmetric\n",
    "        for j in range(len(list_of_columns)):\n",
    "            if is_numeric_dtype(df[list_of_columns[i]]):\n",
    "                if is_numeric_dtype(df[list_of_columns[j]]):\n",
    "                    # Case 1: Both are numeric\n",
    "                    corr_value = np.corrcoef(df[list_of_columns[i]], df[list_of_columns[j]])\n",
    "                    corr_df.loc[list_of_columns[i], list_of_columns[j]] = corr_value[0][1]\n",
    "                else:\n",
    "                    # Case 2: One is categorical\n",
    "                    corr_value = correlation_ratio(df[list_of_columns[j]], df[list_of_columns[i]])\n",
    "                    corr_df.loc[list_of_columns[i], list_of_columns[j]] = corr_value\n",
    "            elif is_numeric_dtype(df[list_of_columns[j]]):\n",
    "                if is_numeric_dtype(df[list_of_columns[i]]):\n",
    "                    # Case 1: Both are numeric\n",
    "                    corr_value = np.corrcoef(df[list_of_columns[i]], df[list_of_columns[j]])\n",
    "                    corr_df.loc[list_of_columns[i], list_of_columns[j]] = corr_value[0][1]\n",
    "                else:\n",
    "                    # Case 2: One is categorical\n",
    "                    corr_value = correlation_ratio(df[list_of_columns[i]], df[list_of_columns[j]])\n",
    "                    corr_df.loc[list_of_columns[i], list_of_columns[j]] = corr_value\n",
    "            else:\n",
    "                # Case 3: Both are categorical\n",
    "                corr_value = theils_u(df[list_of_columns[i]], df[list_of_columns[j]])\n",
    "                corr_df.loc[list_of_columns[i], list_of_columns[j]] = corr_value\n",
    "    return(pd.DataFrame(corr_df.astype('float64').round(2)))\n",
    "\n",
    "def get_model_summary(model:'sklearn.linear_model.LogisticRegression', X:'pd.DataFrame', y:'pd.Series')->'pd.DataFrame':\n",
    "    \"\"\"\n",
    "    Function to compute model summary for sklearn Logistic Regression model as sklearn does not have\n",
    "    implimentation of the same.\n",
    "    \n",
    "    Args:\n",
    "        model: sklearn.linear_model.LogitsticRegression model object\n",
    "        X: DataFrame with independent variables from training set\n",
    "        y: Series with dependent variable from training set\n",
    "        \n",
    "    Returns:\n",
    "        DataFrame containing model summary\n",
    "    \"\"\"\n",
    "    # Extract model parameters\n",
    "    params = np.append(model.intercept_, model.coef_)\n",
    "    \n",
    "    # Make predictions for training set (Fitted values)\n",
    "    predictions = model.predict(X)\n",
    "    \n",
    "    # Original dataset with column 'Constant' for intercept\n",
    "    newX = pd.DataFrame({\n",
    "        \"Constant\": np.ones(len(X))\n",
    "    }).join(pd.DataFrame(X).reset_index(drop=True))\n",
    "    \n",
    "    # Compute t stat and p value\n",
    "    MSE = (sum((y-predictions)**2))/(len(newX)-len(newX.columns))\n",
    "    \n",
    "    var_b = MSE*(np.linalg.inv(np.dot(newX.T,newX)).diagonal())\n",
    "    sd_b = np.sqrt(var_b)\n",
    "    ts_b = params/ sd_b\n",
    "    \n",
    "    p_values =[2*(1-stats.t.cdf(np.abs(i),(len(newX)-len(newX.columns)))) for i in ts_b]\n",
    "    \n",
    "    sd_b = np.round(sd_b,3)\n",
    "    ts_b = np.round(ts_b,3)\n",
    "    p_values = np.round(p_values,3)\n",
    "    params = np.round(params,4)\n",
    "    \n",
    "    # Return model summary as DataFrame\n",
    "    myDF3 = pd.DataFrame(index = newX.columns)\n",
    "    myDF3[\"Coefficients\"],myDF3[\"Standard Errors\"],myDF3[\"t values\"],myDF3[\"Probabilities\"] = [params,sd_b,ts_b,p_values]\n",
    "    \n",
    "    return(myDF3)\n",
    "\n",
    "def missing_value_mode_treatment(train_df:'pd.DataFrame', test_df:'pd.DataFrame')->'tuple':\n",
    "    \"\"\"\n",
    "    Function to impute missing values using mode of the variable.\n",
    "    \n",
    "    Args:\n",
    "        train_df: Training dataset\n",
    "        test_df: Test dataset\n",
    "        \n",
    "    Returns:\n",
    "        Tuple with first element as the treated training dataset and second element as treated test dataset\n",
    "    \"\"\"\n",
    "    # Get columns with unknown values\n",
    "    unknown_count = train_df.replace('unknown', np.nan).isna().sum(axis=0)\n",
    "    unknown_columns = list(unknown_count[unknown_count > 0].index)\n",
    "    \n",
    "    # For each column\n",
    "    for column in unknown_columns:\n",
    "        # Get mode\n",
    "        mode_value = train_df[column].mode()[0]\n",
    "        \n",
    "        # Update unknown with mode in training set\n",
    "        train_df[column] = train_df[column].replace(\"unknown\", np.nan).fillna(mode_value)\n",
    "        \n",
    "        # Update unknown with model in test set\n",
    "        test_df[column] = test_df[column].replace(\"unknown\", np.nan).fillna(mode_value)\n",
    "    return(train_df, test_df)\n",
    "\n",
    "def remove_outliers_iqr(train_x:'pd.DataFrame', test_x:'pd.DataFrame')->'tuple':\n",
    "    \"\"\"\n",
    "    Function to remove outliers using Inter Quartile Range method\n",
    "    \n",
    "    Args:\n",
    "        train_x: Training dataset\n",
    "        test_x: Test dataset\n",
    "        \n",
    "    Returns:\n",
    "        Tuple with first element as the treated training dataset and second element as treated test dataset\n",
    "    \"\"\"\n",
    "    # Compute Q1 and Q3\n",
    "    q1 = np.quantile(train_x, 0.25)\n",
    "    q3 = np.quantile(train_x, 0.75)\n",
    "    \n",
    "    # Compute IQR\n",
    "    iqr = q3 - q1\n",
    "    \n",
    "    # Get upper and lower limits\n",
    "    lower_limit = q1 - 1.5 * iqr\n",
    "    upper_limit = q3 + 1.5 * iqr\n",
    "    \n",
    "    # Cap outliers to upper and lower limits\n",
    "    train_x[train_x < lower_limit] = lower_limit\n",
    "    train_x[train_x > upper_limit] = upper_limit\n",
    "    test_x[test_x < lower_limit] = lower_limit\n",
    "    test_x[test_x > upper_limit] = upper_limit\n",
    "    return(train_x, test_x)"
   ]
  },
  {
   "cell_type": "markdown",
   "id": "4dcb4625",
   "metadata": {},
   "source": [
    "## Analysis"
   ]
  },
  {
   "cell_type": "markdown",
   "id": "1dbc3798",
   "metadata": {},
   "source": [
    "In this section, we will perform **experiments** and gather **insights** using our dataset to prove our hypothesis. This analysis has been broken down in the following steps:\n",
    "\n",
    "* Data Exploration\n",
    "\n",
    "* Statistical Analysis\n",
    "\n",
    "* Data Preprocessing\n",
    "\n",
    "* Predictive Modeling and Model Interpretation"
   ]
  },
  {
   "cell_type": "markdown",
   "id": "bb8cdd8f",
   "metadata": {},
   "source": [
    "### Data Exploration"
   ]
  },
  {
   "cell_type": "markdown",
   "id": "0a605a05",
   "metadata": {},
   "source": [
    "In this section, we will explore the dataset that will be used to create the final model."
   ]
  },
  {
   "cell_type": "markdown",
   "id": "3c977f89",
   "metadata": {},
   "source": [
    "#### Data Dictionary"
   ]
  },
  {
   "cell_type": "markdown",
   "id": "238c2be9",
   "metadata": {},
   "source": [
    "A data dictionary which will describe the contents, format and structure of the dataset."
   ]
  },
  {
   "cell_type": "markdown",
   "id": "bffdeeaf",
   "metadata": {},
   "source": [
    "##### Independent Variables"
   ]
  },
  {
   "cell_type": "code",
   "execution_count": 4,
   "id": "a498c2f1",
   "metadata": {},
   "outputs": [
    {
     "data": {
      "text/html": [
       "<style  type=\"text/css\" >\n",
       "    #T_9949b6de_5883_11eb_8b40_9c7bef9fe81crow0_col1 {\n",
       "            min-width:  300px;\n",
       "        }    #T_9949b6de_5883_11eb_8b40_9c7bef9fe81crow1_col1 {\n",
       "            min-width:  300px;\n",
       "        }    #T_9949b6de_5883_11eb_8b40_9c7bef9fe81crow2_col1 {\n",
       "            min-width:  300px;\n",
       "        }    #T_9949b6de_5883_11eb_8b40_9c7bef9fe81crow3_col1 {\n",
       "            min-width:  300px;\n",
       "        }    #T_9949b6de_5883_11eb_8b40_9c7bef9fe81crow4_col1 {\n",
       "            min-width:  300px;\n",
       "        }    #T_9949b6de_5883_11eb_8b40_9c7bef9fe81crow5_col1 {\n",
       "            min-width:  300px;\n",
       "        }    #T_9949b6de_5883_11eb_8b40_9c7bef9fe81crow6_col1 {\n",
       "            min-width:  300px;\n",
       "        }    #T_9949b6de_5883_11eb_8b40_9c7bef9fe81crow7_col1 {\n",
       "            min-width:  300px;\n",
       "        }    #T_9949b6de_5883_11eb_8b40_9c7bef9fe81crow8_col1 {\n",
       "            min-width:  300px;\n",
       "        }    #T_9949b6de_5883_11eb_8b40_9c7bef9fe81crow9_col1 {\n",
       "            min-width:  300px;\n",
       "        }    #T_9949b6de_5883_11eb_8b40_9c7bef9fe81crow10_col1 {\n",
       "            min-width:  300px;\n",
       "        }    #T_9949b6de_5883_11eb_8b40_9c7bef9fe81crow11_col1 {\n",
       "            min-width:  300px;\n",
       "        }    #T_9949b6de_5883_11eb_8b40_9c7bef9fe81crow12_col1 {\n",
       "            min-width:  300px;\n",
       "        }    #T_9949b6de_5883_11eb_8b40_9c7bef9fe81crow13_col1 {\n",
       "            min-width:  300px;\n",
       "        }    #T_9949b6de_5883_11eb_8b40_9c7bef9fe81crow14_col1 {\n",
       "            min-width:  300px;\n",
       "        }    #T_9949b6de_5883_11eb_8b40_9c7bef9fe81crow15_col1 {\n",
       "            min-width:  300px;\n",
       "        }    #T_9949b6de_5883_11eb_8b40_9c7bef9fe81crow16_col1 {\n",
       "            min-width:  300px;\n",
       "        }    #T_9949b6de_5883_11eb_8b40_9c7bef9fe81crow17_col1 {\n",
       "            min-width:  300px;\n",
       "        }    #T_9949b6de_5883_11eb_8b40_9c7bef9fe81crow18_col1 {\n",
       "            min-width:  300px;\n",
       "        }    #T_9949b6de_5883_11eb_8b40_9c7bef9fe81crow19_col1 {\n",
       "            min-width:  300px;\n",
       "        }</style><table id=\"T_9949b6de_5883_11eb_8b40_9c7bef9fe81c\" ><thead>    <tr>        <th class=\"blank level0\" ></th>        <th class=\"col_heading level0 col0\" >Variable</th>        <th class=\"col_heading level0 col1\" >Description</th>        <th class=\"col_heading level0 col2\" >Sample Values</th>        <th class=\"col_heading level0 col3\" >Data Types</th>    </tr></thead><tbody>\n",
       "                <tr>\n",
       "                        <th id=\"T_9949b6de_5883_11eb_8b40_9c7bef9fe81clevel0_row0\" class=\"row_heading level0 row0\" >0</th>\n",
       "                        <td id=\"T_9949b6de_5883_11eb_8b40_9c7bef9fe81crow0_col0\" class=\"data row0 col0\" >age</td>\n",
       "                        <td id=\"T_9949b6de_5883_11eb_8b40_9c7bef9fe81crow0_col1\" class=\"data row0 col1\" >Age of client</td>\n",
       "                        <td id=\"T_9949b6de_5883_11eb_8b40_9c7bef9fe81crow0_col2\" class=\"data row0 col2\" >56,57,37,...</td>\n",
       "                        <td id=\"T_9949b6de_5883_11eb_8b40_9c7bef9fe81crow0_col3\" class=\"data row0 col3\" >int64</td>\n",
       "            </tr>\n",
       "            <tr>\n",
       "                        <th id=\"T_9949b6de_5883_11eb_8b40_9c7bef9fe81clevel0_row1\" class=\"row_heading level0 row1\" >1</th>\n",
       "                        <td id=\"T_9949b6de_5883_11eb_8b40_9c7bef9fe81crow1_col0\" class=\"data row1 col0\" >job</td>\n",
       "                        <td id=\"T_9949b6de_5883_11eb_8b40_9c7bef9fe81crow1_col1\" class=\"data row1 col1\" >Type of job</td>\n",
       "                        <td id=\"T_9949b6de_5883_11eb_8b40_9c7bef9fe81crow1_col2\" class=\"data row1 col2\" >housemaid,services,admin.,...</td>\n",
       "                        <td id=\"T_9949b6de_5883_11eb_8b40_9c7bef9fe81crow1_col3\" class=\"data row1 col3\" >object</td>\n",
       "            </tr>\n",
       "            <tr>\n",
       "                        <th id=\"T_9949b6de_5883_11eb_8b40_9c7bef9fe81clevel0_row2\" class=\"row_heading level0 row2\" >2</th>\n",
       "                        <td id=\"T_9949b6de_5883_11eb_8b40_9c7bef9fe81crow2_col0\" class=\"data row2 col0\" >marital</td>\n",
       "                        <td id=\"T_9949b6de_5883_11eb_8b40_9c7bef9fe81crow2_col1\" class=\"data row2 col1\" >Marital status</td>\n",
       "                        <td id=\"T_9949b6de_5883_11eb_8b40_9c7bef9fe81crow2_col2\" class=\"data row2 col2\" >married,single,divorced,...</td>\n",
       "                        <td id=\"T_9949b6de_5883_11eb_8b40_9c7bef9fe81crow2_col3\" class=\"data row2 col3\" >object</td>\n",
       "            </tr>\n",
       "            <tr>\n",
       "                        <th id=\"T_9949b6de_5883_11eb_8b40_9c7bef9fe81clevel0_row3\" class=\"row_heading level0 row3\" >3</th>\n",
       "                        <td id=\"T_9949b6de_5883_11eb_8b40_9c7bef9fe81crow3_col0\" class=\"data row3 col0\" >education</td>\n",
       "                        <td id=\"T_9949b6de_5883_11eb_8b40_9c7bef9fe81crow3_col1\" class=\"data row3 col1\" >Educational qualifications</td>\n",
       "                        <td id=\"T_9949b6de_5883_11eb_8b40_9c7bef9fe81crow3_col2\" class=\"data row3 col2\" >basic.4y,high.school,basic.6y,...</td>\n",
       "                        <td id=\"T_9949b6de_5883_11eb_8b40_9c7bef9fe81crow3_col3\" class=\"data row3 col3\" >object</td>\n",
       "            </tr>\n",
       "            <tr>\n",
       "                        <th id=\"T_9949b6de_5883_11eb_8b40_9c7bef9fe81clevel0_row4\" class=\"row_heading level0 row4\" >4</th>\n",
       "                        <td id=\"T_9949b6de_5883_11eb_8b40_9c7bef9fe81crow4_col0\" class=\"data row4 col0\" >default</td>\n",
       "                        <td id=\"T_9949b6de_5883_11eb_8b40_9c7bef9fe81crow4_col1\" class=\"data row4 col1\" >If client has credit in default</td>\n",
       "                        <td id=\"T_9949b6de_5883_11eb_8b40_9c7bef9fe81crow4_col2\" class=\"data row4 col2\" >no,yes,...</td>\n",
       "                        <td id=\"T_9949b6de_5883_11eb_8b40_9c7bef9fe81crow4_col3\" class=\"data row4 col3\" >object</td>\n",
       "            </tr>\n",
       "            <tr>\n",
       "                        <th id=\"T_9949b6de_5883_11eb_8b40_9c7bef9fe81clevel0_row5\" class=\"row_heading level0 row5\" >5</th>\n",
       "                        <td id=\"T_9949b6de_5883_11eb_8b40_9c7bef9fe81crow5_col0\" class=\"data row5 col0\" >housing</td>\n",
       "                        <td id=\"T_9949b6de_5883_11eb_8b40_9c7bef9fe81crow5_col1\" class=\"data row5 col1\" >If client has a housing loan</td>\n",
       "                        <td id=\"T_9949b6de_5883_11eb_8b40_9c7bef9fe81crow5_col2\" class=\"data row5 col2\" >no,yes,...</td>\n",
       "                        <td id=\"T_9949b6de_5883_11eb_8b40_9c7bef9fe81crow5_col3\" class=\"data row5 col3\" >object</td>\n",
       "            </tr>\n",
       "            <tr>\n",
       "                        <th id=\"T_9949b6de_5883_11eb_8b40_9c7bef9fe81clevel0_row6\" class=\"row_heading level0 row6\" >6</th>\n",
       "                        <td id=\"T_9949b6de_5883_11eb_8b40_9c7bef9fe81crow6_col0\" class=\"data row6 col0\" >loan</td>\n",
       "                        <td id=\"T_9949b6de_5883_11eb_8b40_9c7bef9fe81crow6_col1\" class=\"data row6 col1\" >If client has a personal loan</td>\n",
       "                        <td id=\"T_9949b6de_5883_11eb_8b40_9c7bef9fe81crow6_col2\" class=\"data row6 col2\" >no,yes,...</td>\n",
       "                        <td id=\"T_9949b6de_5883_11eb_8b40_9c7bef9fe81crow6_col3\" class=\"data row6 col3\" >object</td>\n",
       "            </tr>\n",
       "            <tr>\n",
       "                        <th id=\"T_9949b6de_5883_11eb_8b40_9c7bef9fe81clevel0_row7\" class=\"row_heading level0 row7\" >7</th>\n",
       "                        <td id=\"T_9949b6de_5883_11eb_8b40_9c7bef9fe81crow7_col0\" class=\"data row7 col0\" >contact</td>\n",
       "                        <td id=\"T_9949b6de_5883_11eb_8b40_9c7bef9fe81crow7_col1\" class=\"data row7 col1\" >Contact communication type</td>\n",
       "                        <td id=\"T_9949b6de_5883_11eb_8b40_9c7bef9fe81crow7_col2\" class=\"data row7 col2\" >telephone,cellular,...</td>\n",
       "                        <td id=\"T_9949b6de_5883_11eb_8b40_9c7bef9fe81crow7_col3\" class=\"data row7 col3\" >object</td>\n",
       "            </tr>\n",
       "            <tr>\n",
       "                        <th id=\"T_9949b6de_5883_11eb_8b40_9c7bef9fe81clevel0_row8\" class=\"row_heading level0 row8\" >8</th>\n",
       "                        <td id=\"T_9949b6de_5883_11eb_8b40_9c7bef9fe81crow8_col0\" class=\"data row8 col0\" >month</td>\n",
       "                        <td id=\"T_9949b6de_5883_11eb_8b40_9c7bef9fe81crow8_col1\" class=\"data row8 col1\" >Last contact month of year</td>\n",
       "                        <td id=\"T_9949b6de_5883_11eb_8b40_9c7bef9fe81crow8_col2\" class=\"data row8 col2\" >may,jun,jul,...</td>\n",
       "                        <td id=\"T_9949b6de_5883_11eb_8b40_9c7bef9fe81crow8_col3\" class=\"data row8 col3\" >object</td>\n",
       "            </tr>\n",
       "            <tr>\n",
       "                        <th id=\"T_9949b6de_5883_11eb_8b40_9c7bef9fe81clevel0_row9\" class=\"row_heading level0 row9\" >9</th>\n",
       "                        <td id=\"T_9949b6de_5883_11eb_8b40_9c7bef9fe81crow9_col0\" class=\"data row9 col0\" >day_of_week</td>\n",
       "                        <td id=\"T_9949b6de_5883_11eb_8b40_9c7bef9fe81crow9_col1\" class=\"data row9 col1\" >Last contact day of the week</td>\n",
       "                        <td id=\"T_9949b6de_5883_11eb_8b40_9c7bef9fe81crow9_col2\" class=\"data row9 col2\" >mon,tue,wed,...</td>\n",
       "                        <td id=\"T_9949b6de_5883_11eb_8b40_9c7bef9fe81crow9_col3\" class=\"data row9 col3\" >object</td>\n",
       "            </tr>\n",
       "            <tr>\n",
       "                        <th id=\"T_9949b6de_5883_11eb_8b40_9c7bef9fe81clevel0_row10\" class=\"row_heading level0 row10\" >10</th>\n",
       "                        <td id=\"T_9949b6de_5883_11eb_8b40_9c7bef9fe81crow10_col0\" class=\"data row10 col0\" >duration</td>\n",
       "                        <td id=\"T_9949b6de_5883_11eb_8b40_9c7bef9fe81crow10_col1\" class=\"data row10 col1\" >Last contact duration in seconds</td>\n",
       "                        <td id=\"T_9949b6de_5883_11eb_8b40_9c7bef9fe81crow10_col2\" class=\"data row10 col2\" >261,149,226,...</td>\n",
       "                        <td id=\"T_9949b6de_5883_11eb_8b40_9c7bef9fe81crow10_col3\" class=\"data row10 col3\" >int64</td>\n",
       "            </tr>\n",
       "            <tr>\n",
       "                        <th id=\"T_9949b6de_5883_11eb_8b40_9c7bef9fe81clevel0_row11\" class=\"row_heading level0 row11\" >11</th>\n",
       "                        <td id=\"T_9949b6de_5883_11eb_8b40_9c7bef9fe81crow11_col0\" class=\"data row11 col0\" >campaign</td>\n",
       "                        <td id=\"T_9949b6de_5883_11eb_8b40_9c7bef9fe81crow11_col1\" class=\"data row11 col1\" >Number of contacts performed during this campaign for this client</td>\n",
       "                        <td id=\"T_9949b6de_5883_11eb_8b40_9c7bef9fe81crow11_col2\" class=\"data row11 col2\" >1,2,3,...</td>\n",
       "                        <td id=\"T_9949b6de_5883_11eb_8b40_9c7bef9fe81crow11_col3\" class=\"data row11 col3\" >int64</td>\n",
       "            </tr>\n",
       "            <tr>\n",
       "                        <th id=\"T_9949b6de_5883_11eb_8b40_9c7bef9fe81clevel0_row12\" class=\"row_heading level0 row12\" >12</th>\n",
       "                        <td id=\"T_9949b6de_5883_11eb_8b40_9c7bef9fe81crow12_col0\" class=\"data row12 col0\" >pdays</td>\n",
       "                        <td id=\"T_9949b6de_5883_11eb_8b40_9c7bef9fe81crow12_col1\" class=\"data row12 col1\" >Number of days since client was last contacted from previous campaign. (999 code for no previous contact)</td>\n",
       "                        <td id=\"T_9949b6de_5883_11eb_8b40_9c7bef9fe81crow12_col2\" class=\"data row12 col2\" >999,6,4,...</td>\n",
       "                        <td id=\"T_9949b6de_5883_11eb_8b40_9c7bef9fe81crow12_col3\" class=\"data row12 col3\" >int64</td>\n",
       "            </tr>\n",
       "            <tr>\n",
       "                        <th id=\"T_9949b6de_5883_11eb_8b40_9c7bef9fe81clevel0_row13\" class=\"row_heading level0 row13\" >13</th>\n",
       "                        <td id=\"T_9949b6de_5883_11eb_8b40_9c7bef9fe81crow13_col0\" class=\"data row13 col0\" >previous</td>\n",
       "                        <td id=\"T_9949b6de_5883_11eb_8b40_9c7bef9fe81crow13_col1\" class=\"data row13 col1\" >Number of contacts performed before this campaign</td>\n",
       "                        <td id=\"T_9949b6de_5883_11eb_8b40_9c7bef9fe81crow13_col2\" class=\"data row13 col2\" >0,1,2,...</td>\n",
       "                        <td id=\"T_9949b6de_5883_11eb_8b40_9c7bef9fe81crow13_col3\" class=\"data row13 col3\" >int64</td>\n",
       "            </tr>\n",
       "            <tr>\n",
       "                        <th id=\"T_9949b6de_5883_11eb_8b40_9c7bef9fe81clevel0_row14\" class=\"row_heading level0 row14\" >14</th>\n",
       "                        <td id=\"T_9949b6de_5883_11eb_8b40_9c7bef9fe81crow14_col0\" class=\"data row14 col0\" >poutcome</td>\n",
       "                        <td id=\"T_9949b6de_5883_11eb_8b40_9c7bef9fe81crow14_col1\" class=\"data row14 col1\" >Outcome of the previous marketing campaign</td>\n",
       "                        <td id=\"T_9949b6de_5883_11eb_8b40_9c7bef9fe81crow14_col2\" class=\"data row14 col2\" >nonexistent,failure,success,...</td>\n",
       "                        <td id=\"T_9949b6de_5883_11eb_8b40_9c7bef9fe81crow14_col3\" class=\"data row14 col3\" >object</td>\n",
       "            </tr>\n",
       "            <tr>\n",
       "                        <th id=\"T_9949b6de_5883_11eb_8b40_9c7bef9fe81clevel0_row15\" class=\"row_heading level0 row15\" >15</th>\n",
       "                        <td id=\"T_9949b6de_5883_11eb_8b40_9c7bef9fe81crow15_col0\" class=\"data row15 col0\" >emp.var.rate</td>\n",
       "                        <td id=\"T_9949b6de_5883_11eb_8b40_9c7bef9fe81crow15_col1\" class=\"data row15 col1\" >Employment variation rate (Quarterly indicator)</td>\n",
       "                        <td id=\"T_9949b6de_5883_11eb_8b40_9c7bef9fe81crow15_col2\" class=\"data row15 col2\" >1.1,1.4,-0.1,...</td>\n",
       "                        <td id=\"T_9949b6de_5883_11eb_8b40_9c7bef9fe81crow15_col3\" class=\"data row15 col3\" >float64</td>\n",
       "            </tr>\n",
       "            <tr>\n",
       "                        <th id=\"T_9949b6de_5883_11eb_8b40_9c7bef9fe81clevel0_row16\" class=\"row_heading level0 row16\" >16</th>\n",
       "                        <td id=\"T_9949b6de_5883_11eb_8b40_9c7bef9fe81crow16_col0\" class=\"data row16 col0\" >cons.price.idx</td>\n",
       "                        <td id=\"T_9949b6de_5883_11eb_8b40_9c7bef9fe81crow16_col1\" class=\"data row16 col1\" >Consumer price index (Monthly indicator)</td>\n",
       "                        <td id=\"T_9949b6de_5883_11eb_8b40_9c7bef9fe81crow16_col2\" class=\"data row16 col2\" >93.994,94.465,93.91799999999999,...</td>\n",
       "                        <td id=\"T_9949b6de_5883_11eb_8b40_9c7bef9fe81crow16_col3\" class=\"data row16 col3\" >float64</td>\n",
       "            </tr>\n",
       "            <tr>\n",
       "                        <th id=\"T_9949b6de_5883_11eb_8b40_9c7bef9fe81clevel0_row17\" class=\"row_heading level0 row17\" >17</th>\n",
       "                        <td id=\"T_9949b6de_5883_11eb_8b40_9c7bef9fe81crow17_col0\" class=\"data row17 col0\" >cons.conf.idx</td>\n",
       "                        <td id=\"T_9949b6de_5883_11eb_8b40_9c7bef9fe81crow17_col1\" class=\"data row17 col1\" >Consumer confidence index (Monthly indicator)</td>\n",
       "                        <td id=\"T_9949b6de_5883_11eb_8b40_9c7bef9fe81crow17_col2\" class=\"data row17 col2\" >-36.4,-41.8,-42.7,...</td>\n",
       "                        <td id=\"T_9949b6de_5883_11eb_8b40_9c7bef9fe81crow17_col3\" class=\"data row17 col3\" >float64</td>\n",
       "            </tr>\n",
       "            <tr>\n",
       "                        <th id=\"T_9949b6de_5883_11eb_8b40_9c7bef9fe81clevel0_row18\" class=\"row_heading level0 row18\" >18</th>\n",
       "                        <td id=\"T_9949b6de_5883_11eb_8b40_9c7bef9fe81crow18_col0\" class=\"data row18 col0\" >euribor3m</td>\n",
       "                        <td id=\"T_9949b6de_5883_11eb_8b40_9c7bef9fe81crow18_col1\" class=\"data row18 col1\" >Euribor 3 month rate (Daily indicator)</td>\n",
       "                        <td id=\"T_9949b6de_5883_11eb_8b40_9c7bef9fe81crow18_col2\" class=\"data row18 col2\" >4.857,4.856,4.855,...</td>\n",
       "                        <td id=\"T_9949b6de_5883_11eb_8b40_9c7bef9fe81crow18_col3\" class=\"data row18 col3\" >float64</td>\n",
       "            </tr>\n",
       "            <tr>\n",
       "                        <th id=\"T_9949b6de_5883_11eb_8b40_9c7bef9fe81clevel0_row19\" class=\"row_heading level0 row19\" >19</th>\n",
       "                        <td id=\"T_9949b6de_5883_11eb_8b40_9c7bef9fe81crow19_col0\" class=\"data row19 col0\" >nr.employed</td>\n",
       "                        <td id=\"T_9949b6de_5883_11eb_8b40_9c7bef9fe81crow19_col1\" class=\"data row19 col1\" >Number of employees (Quarterly indicator)</td>\n",
       "                        <td id=\"T_9949b6de_5883_11eb_8b40_9c7bef9fe81crow19_col2\" class=\"data row19 col2\" >5191.0,5228.1,5195.8,...</td>\n",
       "                        <td id=\"T_9949b6de_5883_11eb_8b40_9c7bef9fe81crow19_col3\" class=\"data row19 col3\" >float64</td>\n",
       "            </tr>\n",
       "    </tbody></table>"
      ],
      "text/plain": [
       "<pandas.io.formats.style.Styler at 0x7f7ede4e24a8>"
      ]
     },
     "execution_count": 4,
     "metadata": {},
     "output_type": "execute_result"
    }
   ],
   "source": [
    "outDf = pd.DataFrame({\n",
    "    \"Variable\": list(term_deposit_data.columns)[:-1],\n",
    "    \"Description\": [\"Age of client\",\n",
    "                    \"Type of job\",\n",
    "                    \"Marital status\",\n",
    "                    \"Educational qualifications\",\n",
    "                    \"If client has credit in default\",\n",
    "                    \"If client has a housing loan\",\n",
    "                    \"If client has a personal loan\",\n",
    "                    \"Contact communication type\",\n",
    "                    \"Last contact month of year\",\n",
    "                    \"Last contact day of the week\",\n",
    "                    \"Last contact duration in seconds\",\n",
    "                    \"Number of contacts performed during this campaign for this client\",\n",
    "                    \"Number of days since client was last contacted from previous campaign. (999 code for no previous contact)\",\n",
    "                    \"Number of contacts performed before this campaign\",\n",
    "                    \"Outcome of the previous marketing campaign\",\n",
    "                    \"Employment variation rate (Quarterly indicator)\",\n",
    "                    \"Consumer price index (Monthly indicator)\",\n",
    "                    \"Consumer confidence index (Monthly indicator)\",\n",
    "                    \"Euribor 3 month rate (Daily indicator)\",\n",
    "                    \"Number of employees (Quarterly indicator)\"],\n",
    "    \"Sample Values\": list(term_deposit_data[term_deposit_data.columns[:-1]].apply(lambda x: ','.join([str(ele) for ele in x.unique()[:3] if ele != \"unknown\"] + [\"...\"]), axis=0)),\n",
    "    \"Data Types\": list(term_deposit_data.dtypes[:-1])\n",
    "})\n",
    "\n",
    "outDf.style.set_properties(subset='Description', **{'min-width': '300px'})"
   ]
  },
  {
   "cell_type": "markdown",
   "id": "5f274ab2",
   "metadata": {},
   "source": [
    "##### Dependent Variable"
   ]
  },
  {
   "cell_type": "code",
   "execution_count": 5,
   "id": "f77db80d",
   "metadata": {},
   "outputs": [
    {
     "data": {
      "text/html": [
       "<style  type=\"text/css\" >\n",
       "    #T_9949b6df_5883_11eb_8b40_9c7bef9fe81crow0_col1 {\n",
       "            min-width:  300px;\n",
       "        }</style><table id=\"T_9949b6df_5883_11eb_8b40_9c7bef9fe81c\" ><thead>    <tr>        <th class=\"blank level0\" ></th>        <th class=\"col_heading level0 col0\" >Variable</th>        <th class=\"col_heading level0 col1\" >Description</th>        <th class=\"col_heading level0 col2\" >Sample Values</th>    </tr></thead><tbody>\n",
       "                <tr>\n",
       "                        <th id=\"T_9949b6df_5883_11eb_8b40_9c7bef9fe81clevel0_row0\" class=\"row_heading level0 row0\" >0</th>\n",
       "                        <td id=\"T_9949b6df_5883_11eb_8b40_9c7bef9fe81crow0_col0\" class=\"data row0 col0\" >y</td>\n",
       "                        <td id=\"T_9949b6df_5883_11eb_8b40_9c7bef9fe81crow0_col1\" class=\"data row0 col1\" >Has the client subscribed to a term deposit.</td>\n",
       "                        <td id=\"T_9949b6df_5883_11eb_8b40_9c7bef9fe81crow0_col2\" class=\"data row0 col2\" >no,yes</td>\n",
       "            </tr>\n",
       "    </tbody></table>"
      ],
      "text/plain": [
       "<pandas.io.formats.style.Styler at 0x7f7ede8a6be0>"
      ]
     },
     "execution_count": 5,
     "metadata": {},
     "output_type": "execute_result"
    }
   ],
   "source": [
    "outDf = pd.DataFrame({\n",
    "    \"Variable\": list(term_deposit_data.columns)[-1],\n",
    "    \"Description\": [\"Has the client subscribed to a term deposit.\"],\n",
    "    \"Sample Values\": [','.join(list(term_deposit_data[term_deposit_data.columns[-1]].unique()))]\n",
    "})\n",
    "\n",
    "outDf.style.set_properties(subset='Description', **{'min-width': '300px'})"
   ]
  },
  {
   "cell_type": "markdown",
   "id": "5bf2a2c7",
   "metadata": {},
   "source": [
    "#### Quck Peek"
   ]
  },
  {
   "cell_type": "markdown",
   "id": "29473fc8",
   "metadata": {},
   "source": [
    "First few samples from the dataset."
   ]
  },
  {
   "cell_type": "code",
   "execution_count": 6,
   "id": "0f1a8b98",
   "metadata": {
    "scrolled": false
   },
   "outputs": [
    {
     "data": {
      "text/html": [
       "<div>\n",
       "<style scoped>\n",
       "    .dataframe tbody tr th:only-of-type {\n",
       "        vertical-align: middle;\n",
       "    }\n",
       "\n",
       "    .dataframe tbody tr th {\n",
       "        vertical-align: top;\n",
       "    }\n",
       "\n",
       "    .dataframe thead th {\n",
       "        text-align: right;\n",
       "    }\n",
       "</style>\n",
       "<table border=\"1\" class=\"dataframe\">\n",
       "  <thead>\n",
       "    <tr style=\"text-align: right;\">\n",
       "      <th></th>\n",
       "      <th>age</th>\n",
       "      <th>job</th>\n",
       "      <th>marital</th>\n",
       "      <th>education</th>\n",
       "      <th>default</th>\n",
       "      <th>housing</th>\n",
       "      <th>loan</th>\n",
       "      <th>contact</th>\n",
       "      <th>month</th>\n",
       "      <th>day_of_week</th>\n",
       "      <th>...</th>\n",
       "      <th>campaign</th>\n",
       "      <th>pdays</th>\n",
       "      <th>previous</th>\n",
       "      <th>poutcome</th>\n",
       "      <th>emp.var.rate</th>\n",
       "      <th>cons.price.idx</th>\n",
       "      <th>cons.conf.idx</th>\n",
       "      <th>euribor3m</th>\n",
       "      <th>nr.employed</th>\n",
       "      <th>y</th>\n",
       "    </tr>\n",
       "  </thead>\n",
       "  <tbody>\n",
       "    <tr>\n",
       "      <th>0</th>\n",
       "      <td>56</td>\n",
       "      <td>housemaid</td>\n",
       "      <td>married</td>\n",
       "      <td>basic.4y</td>\n",
       "      <td>no</td>\n",
       "      <td>no</td>\n",
       "      <td>no</td>\n",
       "      <td>telephone</td>\n",
       "      <td>may</td>\n",
       "      <td>mon</td>\n",
       "      <td>...</td>\n",
       "      <td>1</td>\n",
       "      <td>999</td>\n",
       "      <td>0</td>\n",
       "      <td>nonexistent</td>\n",
       "      <td>1.1</td>\n",
       "      <td>93.994</td>\n",
       "      <td>-36.4</td>\n",
       "      <td>4.857</td>\n",
       "      <td>5191.0</td>\n",
       "      <td>no</td>\n",
       "    </tr>\n",
       "    <tr>\n",
       "      <th>1</th>\n",
       "      <td>57</td>\n",
       "      <td>services</td>\n",
       "      <td>married</td>\n",
       "      <td>high.school</td>\n",
       "      <td>unknown</td>\n",
       "      <td>no</td>\n",
       "      <td>no</td>\n",
       "      <td>telephone</td>\n",
       "      <td>may</td>\n",
       "      <td>mon</td>\n",
       "      <td>...</td>\n",
       "      <td>1</td>\n",
       "      <td>999</td>\n",
       "      <td>0</td>\n",
       "      <td>nonexistent</td>\n",
       "      <td>1.1</td>\n",
       "      <td>93.994</td>\n",
       "      <td>-36.4</td>\n",
       "      <td>4.857</td>\n",
       "      <td>5191.0</td>\n",
       "      <td>no</td>\n",
       "    </tr>\n",
       "    <tr>\n",
       "      <th>2</th>\n",
       "      <td>37</td>\n",
       "      <td>services</td>\n",
       "      <td>married</td>\n",
       "      <td>high.school</td>\n",
       "      <td>no</td>\n",
       "      <td>yes</td>\n",
       "      <td>no</td>\n",
       "      <td>telephone</td>\n",
       "      <td>may</td>\n",
       "      <td>mon</td>\n",
       "      <td>...</td>\n",
       "      <td>1</td>\n",
       "      <td>999</td>\n",
       "      <td>0</td>\n",
       "      <td>nonexistent</td>\n",
       "      <td>1.1</td>\n",
       "      <td>93.994</td>\n",
       "      <td>-36.4</td>\n",
       "      <td>4.857</td>\n",
       "      <td>5191.0</td>\n",
       "      <td>no</td>\n",
       "    </tr>\n",
       "    <tr>\n",
       "      <th>3</th>\n",
       "      <td>40</td>\n",
       "      <td>admin.</td>\n",
       "      <td>married</td>\n",
       "      <td>basic.6y</td>\n",
       "      <td>no</td>\n",
       "      <td>no</td>\n",
       "      <td>no</td>\n",
       "      <td>telephone</td>\n",
       "      <td>may</td>\n",
       "      <td>mon</td>\n",
       "      <td>...</td>\n",
       "      <td>1</td>\n",
       "      <td>999</td>\n",
       "      <td>0</td>\n",
       "      <td>nonexistent</td>\n",
       "      <td>1.1</td>\n",
       "      <td>93.994</td>\n",
       "      <td>-36.4</td>\n",
       "      <td>4.857</td>\n",
       "      <td>5191.0</td>\n",
       "      <td>no</td>\n",
       "    </tr>\n",
       "    <tr>\n",
       "      <th>4</th>\n",
       "      <td>56</td>\n",
       "      <td>services</td>\n",
       "      <td>married</td>\n",
       "      <td>high.school</td>\n",
       "      <td>no</td>\n",
       "      <td>no</td>\n",
       "      <td>yes</td>\n",
       "      <td>telephone</td>\n",
       "      <td>may</td>\n",
       "      <td>mon</td>\n",
       "      <td>...</td>\n",
       "      <td>1</td>\n",
       "      <td>999</td>\n",
       "      <td>0</td>\n",
       "      <td>nonexistent</td>\n",
       "      <td>1.1</td>\n",
       "      <td>93.994</td>\n",
       "      <td>-36.4</td>\n",
       "      <td>4.857</td>\n",
       "      <td>5191.0</td>\n",
       "      <td>no</td>\n",
       "    </tr>\n",
       "    <tr>\n",
       "      <th>5</th>\n",
       "      <td>45</td>\n",
       "      <td>services</td>\n",
       "      <td>married</td>\n",
       "      <td>basic.9y</td>\n",
       "      <td>unknown</td>\n",
       "      <td>no</td>\n",
       "      <td>no</td>\n",
       "      <td>telephone</td>\n",
       "      <td>may</td>\n",
       "      <td>mon</td>\n",
       "      <td>...</td>\n",
       "      <td>1</td>\n",
       "      <td>999</td>\n",
       "      <td>0</td>\n",
       "      <td>nonexistent</td>\n",
       "      <td>1.1</td>\n",
       "      <td>93.994</td>\n",
       "      <td>-36.4</td>\n",
       "      <td>4.857</td>\n",
       "      <td>5191.0</td>\n",
       "      <td>no</td>\n",
       "    </tr>\n",
       "    <tr>\n",
       "      <th>6</th>\n",
       "      <td>59</td>\n",
       "      <td>admin.</td>\n",
       "      <td>married</td>\n",
       "      <td>professional.course</td>\n",
       "      <td>no</td>\n",
       "      <td>no</td>\n",
       "      <td>no</td>\n",
       "      <td>telephone</td>\n",
       "      <td>may</td>\n",
       "      <td>mon</td>\n",
       "      <td>...</td>\n",
       "      <td>1</td>\n",
       "      <td>999</td>\n",
       "      <td>0</td>\n",
       "      <td>nonexistent</td>\n",
       "      <td>1.1</td>\n",
       "      <td>93.994</td>\n",
       "      <td>-36.4</td>\n",
       "      <td>4.857</td>\n",
       "      <td>5191.0</td>\n",
       "      <td>no</td>\n",
       "    </tr>\n",
       "    <tr>\n",
       "      <th>7</th>\n",
       "      <td>41</td>\n",
       "      <td>blue-collar</td>\n",
       "      <td>married</td>\n",
       "      <td>unknown</td>\n",
       "      <td>unknown</td>\n",
       "      <td>no</td>\n",
       "      <td>no</td>\n",
       "      <td>telephone</td>\n",
       "      <td>may</td>\n",
       "      <td>mon</td>\n",
       "      <td>...</td>\n",
       "      <td>1</td>\n",
       "      <td>999</td>\n",
       "      <td>0</td>\n",
       "      <td>nonexistent</td>\n",
       "      <td>1.1</td>\n",
       "      <td>93.994</td>\n",
       "      <td>-36.4</td>\n",
       "      <td>4.857</td>\n",
       "      <td>5191.0</td>\n",
       "      <td>no</td>\n",
       "    </tr>\n",
       "    <tr>\n",
       "      <th>8</th>\n",
       "      <td>24</td>\n",
       "      <td>technician</td>\n",
       "      <td>single</td>\n",
       "      <td>professional.course</td>\n",
       "      <td>no</td>\n",
       "      <td>yes</td>\n",
       "      <td>no</td>\n",
       "      <td>telephone</td>\n",
       "      <td>may</td>\n",
       "      <td>mon</td>\n",
       "      <td>...</td>\n",
       "      <td>1</td>\n",
       "      <td>999</td>\n",
       "      <td>0</td>\n",
       "      <td>nonexistent</td>\n",
       "      <td>1.1</td>\n",
       "      <td>93.994</td>\n",
       "      <td>-36.4</td>\n",
       "      <td>4.857</td>\n",
       "      <td>5191.0</td>\n",
       "      <td>no</td>\n",
       "    </tr>\n",
       "    <tr>\n",
       "      <th>9</th>\n",
       "      <td>25</td>\n",
       "      <td>services</td>\n",
       "      <td>single</td>\n",
       "      <td>high.school</td>\n",
       "      <td>no</td>\n",
       "      <td>yes</td>\n",
       "      <td>no</td>\n",
       "      <td>telephone</td>\n",
       "      <td>may</td>\n",
       "      <td>mon</td>\n",
       "      <td>...</td>\n",
       "      <td>1</td>\n",
       "      <td>999</td>\n",
       "      <td>0</td>\n",
       "      <td>nonexistent</td>\n",
       "      <td>1.1</td>\n",
       "      <td>93.994</td>\n",
       "      <td>-36.4</td>\n",
       "      <td>4.857</td>\n",
       "      <td>5191.0</td>\n",
       "      <td>no</td>\n",
       "    </tr>\n",
       "  </tbody>\n",
       "</table>\n",
       "<p>10 rows × 21 columns</p>\n",
       "</div>"
      ],
      "text/plain": [
       "   age          job  marital            education  default housing loan  \\\n",
       "0   56    housemaid  married             basic.4y       no      no   no   \n",
       "1   57     services  married          high.school  unknown      no   no   \n",
       "2   37     services  married          high.school       no     yes   no   \n",
       "3   40       admin.  married             basic.6y       no      no   no   \n",
       "4   56     services  married          high.school       no      no  yes   \n",
       "5   45     services  married             basic.9y  unknown      no   no   \n",
       "6   59       admin.  married  professional.course       no      no   no   \n",
       "7   41  blue-collar  married              unknown  unknown      no   no   \n",
       "8   24   technician   single  professional.course       no     yes   no   \n",
       "9   25     services   single          high.school       no     yes   no   \n",
       "\n",
       "     contact month day_of_week  ...  campaign  pdays  previous     poutcome  \\\n",
       "0  telephone   may         mon  ...         1    999         0  nonexistent   \n",
       "1  telephone   may         mon  ...         1    999         0  nonexistent   \n",
       "2  telephone   may         mon  ...         1    999         0  nonexistent   \n",
       "3  telephone   may         mon  ...         1    999         0  nonexistent   \n",
       "4  telephone   may         mon  ...         1    999         0  nonexistent   \n",
       "5  telephone   may         mon  ...         1    999         0  nonexistent   \n",
       "6  telephone   may         mon  ...         1    999         0  nonexistent   \n",
       "7  telephone   may         mon  ...         1    999         0  nonexistent   \n",
       "8  telephone   may         mon  ...         1    999         0  nonexistent   \n",
       "9  telephone   may         mon  ...         1    999         0  nonexistent   \n",
       "\n",
       "  emp.var.rate  cons.price.idx  cons.conf.idx  euribor3m  nr.employed   y  \n",
       "0          1.1          93.994          -36.4      4.857       5191.0  no  \n",
       "1          1.1          93.994          -36.4      4.857       5191.0  no  \n",
       "2          1.1          93.994          -36.4      4.857       5191.0  no  \n",
       "3          1.1          93.994          -36.4      4.857       5191.0  no  \n",
       "4          1.1          93.994          -36.4      4.857       5191.0  no  \n",
       "5          1.1          93.994          -36.4      4.857       5191.0  no  \n",
       "6          1.1          93.994          -36.4      4.857       5191.0  no  \n",
       "7          1.1          93.994          -36.4      4.857       5191.0  no  \n",
       "8          1.1          93.994          -36.4      4.857       5191.0  no  \n",
       "9          1.1          93.994          -36.4      4.857       5191.0  no  \n",
       "\n",
       "[10 rows x 21 columns]"
      ]
     },
     "execution_count": 6,
     "metadata": {},
     "output_type": "execute_result"
    }
   ],
   "source": [
    "term_deposit_data.head(10)"
   ]
  },
  {
   "cell_type": "code",
   "execution_count": 7,
   "id": "864fcb2b",
   "metadata": {},
   "outputs": [
    {
     "name": "stdout",
     "output_type": "stream",
     "text": [
      "Shape of dataset is: (41188, 21)\n"
     ]
    }
   ],
   "source": [
    "print(\"Shape of dataset is:\", term_deposit_data.shape)"
   ]
  },
  {
   "cell_type": "markdown",
   "id": "ceaeda8e",
   "metadata": {},
   "source": [
    "**Findings:** Data has\n",
    "\n",
    "* 41188 samples\n",
    "\n",
    "* 20 independent variables\n",
    "\n",
    "* 1 dependent variable"
   ]
  },
  {
   "cell_type": "markdown",
   "id": "d924eea4",
   "metadata": {},
   "source": [
    "#### Missing Values"
   ]
  },
  {
   "cell_type": "code",
   "execution_count": 8,
   "id": "c2445508",
   "metadata": {},
   "outputs": [
    {
     "data": {
      "text/html": [
       "<div>\n",
       "<style scoped>\n",
       "    .dataframe tbody tr th:only-of-type {\n",
       "        vertical-align: middle;\n",
       "    }\n",
       "\n",
       "    .dataframe tbody tr th {\n",
       "        vertical-align: top;\n",
       "    }\n",
       "\n",
       "    .dataframe thead th {\n",
       "        text-align: right;\n",
       "    }\n",
       "</style>\n",
       "<table border=\"1\" class=\"dataframe\">\n",
       "  <thead>\n",
       "    <tr style=\"text-align: right;\">\n",
       "      <th></th>\n",
       "      <th>Variable</th>\n",
       "      <th>Count of Missing Values</th>\n",
       "    </tr>\n",
       "  </thead>\n",
       "  <tbody>\n",
       "    <tr>\n",
       "      <th>0</th>\n",
       "      <td>age</td>\n",
       "      <td>0</td>\n",
       "    </tr>\n",
       "    <tr>\n",
       "      <th>1</th>\n",
       "      <td>job</td>\n",
       "      <td>330</td>\n",
       "    </tr>\n",
       "    <tr>\n",
       "      <th>2</th>\n",
       "      <td>marital</td>\n",
       "      <td>80</td>\n",
       "    </tr>\n",
       "    <tr>\n",
       "      <th>3</th>\n",
       "      <td>education</td>\n",
       "      <td>1731</td>\n",
       "    </tr>\n",
       "    <tr>\n",
       "      <th>4</th>\n",
       "      <td>default</td>\n",
       "      <td>8597</td>\n",
       "    </tr>\n",
       "    <tr>\n",
       "      <th>5</th>\n",
       "      <td>housing</td>\n",
       "      <td>990</td>\n",
       "    </tr>\n",
       "    <tr>\n",
       "      <th>6</th>\n",
       "      <td>loan</td>\n",
       "      <td>990</td>\n",
       "    </tr>\n",
       "    <tr>\n",
       "      <th>7</th>\n",
       "      <td>contact</td>\n",
       "      <td>0</td>\n",
       "    </tr>\n",
       "    <tr>\n",
       "      <th>8</th>\n",
       "      <td>month</td>\n",
       "      <td>0</td>\n",
       "    </tr>\n",
       "    <tr>\n",
       "      <th>9</th>\n",
       "      <td>day_of_week</td>\n",
       "      <td>0</td>\n",
       "    </tr>\n",
       "    <tr>\n",
       "      <th>10</th>\n",
       "      <td>duration</td>\n",
       "      <td>0</td>\n",
       "    </tr>\n",
       "    <tr>\n",
       "      <th>11</th>\n",
       "      <td>campaign</td>\n",
       "      <td>0</td>\n",
       "    </tr>\n",
       "    <tr>\n",
       "      <th>12</th>\n",
       "      <td>pdays</td>\n",
       "      <td>0</td>\n",
       "    </tr>\n",
       "    <tr>\n",
       "      <th>13</th>\n",
       "      <td>previous</td>\n",
       "      <td>0</td>\n",
       "    </tr>\n",
       "    <tr>\n",
       "      <th>14</th>\n",
       "      <td>poutcome</td>\n",
       "      <td>0</td>\n",
       "    </tr>\n",
       "    <tr>\n",
       "      <th>15</th>\n",
       "      <td>emp.var.rate</td>\n",
       "      <td>0</td>\n",
       "    </tr>\n",
       "    <tr>\n",
       "      <th>16</th>\n",
       "      <td>cons.price.idx</td>\n",
       "      <td>0</td>\n",
       "    </tr>\n",
       "    <tr>\n",
       "      <th>17</th>\n",
       "      <td>cons.conf.idx</td>\n",
       "      <td>0</td>\n",
       "    </tr>\n",
       "    <tr>\n",
       "      <th>18</th>\n",
       "      <td>euribor3m</td>\n",
       "      <td>0</td>\n",
       "    </tr>\n",
       "    <tr>\n",
       "      <th>19</th>\n",
       "      <td>nr.employed</td>\n",
       "      <td>0</td>\n",
       "    </tr>\n",
       "    <tr>\n",
       "      <th>20</th>\n",
       "      <td>y</td>\n",
       "      <td>0</td>\n",
       "    </tr>\n",
       "  </tbody>\n",
       "</table>\n",
       "</div>"
      ],
      "text/plain": [
       "          Variable  Count of Missing Values\n",
       "0              age                        0\n",
       "1              job                      330\n",
       "2          marital                       80\n",
       "3        education                     1731\n",
       "4          default                     8597\n",
       "5          housing                      990\n",
       "6             loan                      990\n",
       "7          contact                        0\n",
       "8            month                        0\n",
       "9      day_of_week                        0\n",
       "10        duration                        0\n",
       "11        campaign                        0\n",
       "12           pdays                        0\n",
       "13        previous                        0\n",
       "14        poutcome                        0\n",
       "15    emp.var.rate                        0\n",
       "16  cons.price.idx                        0\n",
       "17   cons.conf.idx                        0\n",
       "18       euribor3m                        0\n",
       "19     nr.employed                        0\n",
       "20               y                        0"
      ]
     },
     "execution_count": 8,
     "metadata": {},
     "output_type": "execute_result"
    }
   ],
   "source": [
    "term_deposit_data.replace(\"unknown\", np.nan).isna().sum(axis=0).reset_index().rename(columns={0: 'Count of Missing Values',\n",
    "                                                                                              'index': 'Variable'})"
   ]
  },
  {
   "cell_type": "markdown",
   "id": "82e86212",
   "metadata": {},
   "source": [
    "**Findings**\n",
    "\n",
    "* Missing values are only present in categorical columns\n",
    "\n",
    "* Missing values are present in variables under **client data** umbrella, but not in variables under **last contact** or **additional attributes**"
   ]
  },
  {
   "cell_type": "markdown",
   "id": "563600b5",
   "metadata": {},
   "source": [
    "### Statistical Analysis"
   ]
  },
  {
   "cell_type": "markdown",
   "id": "5c8318d7",
   "metadata": {},
   "source": [
    "Statistical analysis is the collection and interpretation of data in order to uncover patterns and trends."
   ]
  },
  {
   "cell_type": "markdown",
   "id": "3733da7e",
   "metadata": {},
   "source": [
    "#### Univariate Analysis"
   ]
  },
  {
   "cell_type": "markdown",
   "id": "8737b4d3",
   "metadata": {},
   "source": [
    "It considers only one variable at a time to find patterns within that variable."
   ]
  },
  {
   "cell_type": "markdown",
   "id": "738a01ac",
   "metadata": {},
   "source": [
    "##### Data Distribution"
   ]
  },
  {
   "cell_type": "code",
   "execution_count": 9,
   "id": "658dcc58",
   "metadata": {},
   "outputs": [
    {
     "data": {
      "image/png": "[encoded data removed]",
      "text/plain": [
       "<Figure size 1152x1152 with 20 Axes>"
      ]
     },
     "metadata": {
      "needs_background": "light"
     },
     "output_type": "display_data"
    }
   ],
   "source": [
    "fig, axes = plt.subplots(5, 4, figsize = (16, 16))\n",
    "fig.subplots_adjust(hspace = 1, wspace = 0.5)\n",
    "axes = axes.ravel()\n",
    "kwargs = {'alpha': 1}\n",
    "\n",
    "for i, column in enumerate(term_deposit_data.columns[:-1]):\n",
    "    column_series = term_deposit_data[column]\n",
    "    \n",
    "    axes[i].hist(column_series, **kwargs)\n",
    "    axes[i].set_title(column)\n",
    "    \n",
    "    if(column_series.dtype == 'object'):\n",
    "        axes[i].tick_params(axis='x', labelrotation=90)\n",
    "plt.show()"
   ]
  },
  {
   "cell_type": "markdown",
   "id": "1cafe399",
   "metadata": {},
   "source": [
    "**Findings**\n",
    "\n",
    "* Most clients belong to the ages between 20-60. It is intuitive as these are the ages when people are looking for investment opportunities\n",
    "\n",
    "* Highest number of clients are ones with a university degree\n",
    "\n",
    "* 70% of the clients are new as they have **pdays** as 999 (have not been contacted previously). This can also be seen in **poutcome** (which has 70% nonexistent previous outcomes) and **previous** (70% having 0 previous contacts). Hence, these 3 variables should have higher correlation"
   ]
  },
  {
   "cell_type": "markdown",
   "id": "d51d4d02",
   "metadata": {},
   "source": [
    "###### Independent Variable"
   ]
  },
  {
   "cell_type": "code",
   "execution_count": 10,
   "id": "7cc3279d",
   "metadata": {
    "scrolled": true
   },
   "outputs": [
    {
     "data": {
      "image/png": "[encoded data removed]",
      "text/plain": [
       "<Figure size 432x288 with 1 Axes>"
      ]
     },
     "metadata": {
      "needs_background": "light"
     },
     "output_type": "display_data"
    }
   ],
   "source": [
    "ax = term_deposit_data['y'].value_counts().plot.bar()\n",
    "\n",
    "for p in ax.patches:\n",
    "    width = p.get_width()\n",
    "    height = p.get_height()\n",
    "    x, y = p.get_xy() \n",
    "    ax.annotate(f'{height / term_deposit_data.shape[0]:.0%}', (x + width/2, y + height + 10), ha='center')"
   ]
  },
  {
   "cell_type": "markdown",
   "id": "9bbe08fe",
   "metadata": {},
   "source": [
    "**Findings**\n",
    "\n",
    "* The dataset is imbalanced, with higher number of negative samples"
   ]
  },
  {
   "cell_type": "markdown",
   "id": "e74583a6",
   "metadata": {},
   "source": [
    "##### Discriptive Statistics"
   ]
  },
  {
   "cell_type": "markdown",
   "id": "01abb449",
   "metadata": {},
   "source": [
    "This includes:\n",
    "\n",
    "* **Mean**: The arithmetic mean or average is given by the sum of all observations divided by the total number of observations\n",
    "\n",
    "* **Std**: The standard deviation is the average deviation of values from their mean\n",
    "\n",
    "* **Min**: Minimum value\n",
    "\n",
    "* **25%**: First quartile, indicates value below which 25% of the values of the data fall\n",
    "\n",
    "* **50%**: Second quartile (median), indicates value below which 50% of the values of the data fall\n",
    "\n",
    "* **75%**: Third quartile, indicates value below which 75% of the values of the data fall\n",
    "\n",
    "* **Max**: Maximum value"
   ]
  },
  {
   "cell_type": "code",
   "execution_count": 11,
   "id": "1e385f8f",
   "metadata": {},
   "outputs": [
    {
     "data": {
      "text/html": [
       "<div>\n",
       "<style scoped>\n",
       "    .dataframe tbody tr th:only-of-type {\n",
       "        vertical-align: middle;\n",
       "    }\n",
       "\n",
       "    .dataframe tbody tr th {\n",
       "        vertical-align: top;\n",
       "    }\n",
       "\n",
       "    .dataframe thead th {\n",
       "        text-align: right;\n",
       "    }\n",
       "</style>\n",
       "<table border=\"1\" class=\"dataframe\">\n",
       "  <thead>\n",
       "    <tr style=\"text-align: right;\">\n",
       "      <th></th>\n",
       "      <th>age</th>\n",
       "      <th>duration</th>\n",
       "      <th>campaign</th>\n",
       "      <th>pdays</th>\n",
       "      <th>previous</th>\n",
       "      <th>emp.var.rate</th>\n",
       "      <th>cons.price.idx</th>\n",
       "      <th>cons.conf.idx</th>\n",
       "      <th>euribor3m</th>\n",
       "      <th>nr.employed</th>\n",
       "    </tr>\n",
       "  </thead>\n",
       "  <tbody>\n",
       "    <tr>\n",
       "      <th>count</th>\n",
       "      <td>41188.00000</td>\n",
       "      <td>41188.000000</td>\n",
       "      <td>41188.000000</td>\n",
       "      <td>41188.000000</td>\n",
       "      <td>41188.000000</td>\n",
       "      <td>41188.000000</td>\n",
       "      <td>41188.000000</td>\n",
       "      <td>41188.000000</td>\n",
       "      <td>41188.000000</td>\n",
       "      <td>41188.000000</td>\n",
       "    </tr>\n",
       "    <tr>\n",
       "      <th>mean</th>\n",
       "      <td>40.02406</td>\n",
       "      <td>258.285010</td>\n",
       "      <td>2.567593</td>\n",
       "      <td>962.475454</td>\n",
       "      <td>0.172963</td>\n",
       "      <td>0.081886</td>\n",
       "      <td>93.575664</td>\n",
       "      <td>-40.502600</td>\n",
       "      <td>3.621291</td>\n",
       "      <td>5167.035911</td>\n",
       "    </tr>\n",
       "    <tr>\n",
       "      <th>std</th>\n",
       "      <td>10.42125</td>\n",
       "      <td>259.279249</td>\n",
       "      <td>2.770014</td>\n",
       "      <td>186.910907</td>\n",
       "      <td>0.494901</td>\n",
       "      <td>1.570960</td>\n",
       "      <td>0.578840</td>\n",
       "      <td>4.628198</td>\n",
       "      <td>1.734447</td>\n",
       "      <td>72.251528</td>\n",
       "    </tr>\n",
       "    <tr>\n",
       "      <th>min</th>\n",
       "      <td>17.00000</td>\n",
       "      <td>0.000000</td>\n",
       "      <td>1.000000</td>\n",
       "      <td>0.000000</td>\n",
       "      <td>0.000000</td>\n",
       "      <td>-3.400000</td>\n",
       "      <td>92.201000</td>\n",
       "      <td>-50.800000</td>\n",
       "      <td>0.634000</td>\n",
       "      <td>4963.600000</td>\n",
       "    </tr>\n",
       "    <tr>\n",
       "      <th>25%</th>\n",
       "      <td>32.00000</td>\n",
       "      <td>102.000000</td>\n",
       "      <td>1.000000</td>\n",
       "      <td>999.000000</td>\n",
       "      <td>0.000000</td>\n",
       "      <td>-1.800000</td>\n",
       "      <td>93.075000</td>\n",
       "      <td>-42.700000</td>\n",
       "      <td>1.344000</td>\n",
       "      <td>5099.100000</td>\n",
       "    </tr>\n",
       "    <tr>\n",
       "      <th>50%</th>\n",
       "      <td>38.00000</td>\n",
       "      <td>180.000000</td>\n",
       "      <td>2.000000</td>\n",
       "      <td>999.000000</td>\n",
       "      <td>0.000000</td>\n",
       "      <td>1.100000</td>\n",
       "      <td>93.749000</td>\n",
       "      <td>-41.800000</td>\n",
       "      <td>4.857000</td>\n",
       "      <td>5191.000000</td>\n",
       "    </tr>\n",
       "    <tr>\n",
       "      <th>75%</th>\n",
       "      <td>47.00000</td>\n",
       "      <td>319.000000</td>\n",
       "      <td>3.000000</td>\n",
       "      <td>999.000000</td>\n",
       "      <td>0.000000</td>\n",
       "      <td>1.400000</td>\n",
       "      <td>93.994000</td>\n",
       "      <td>-36.400000</td>\n",
       "      <td>4.961000</td>\n",
       "      <td>5228.100000</td>\n",
       "    </tr>\n",
       "    <tr>\n",
       "      <th>max</th>\n",
       "      <td>98.00000</td>\n",
       "      <td>4918.000000</td>\n",
       "      <td>56.000000</td>\n",
       "      <td>999.000000</td>\n",
       "      <td>7.000000</td>\n",
       "      <td>1.400000</td>\n",
       "      <td>94.767000</td>\n",
       "      <td>-26.900000</td>\n",
       "      <td>5.045000</td>\n",
       "      <td>5228.100000</td>\n",
       "    </tr>\n",
       "  </tbody>\n",
       "</table>\n",
       "</div>"
      ],
      "text/plain": [
       "               age      duration      campaign         pdays      previous  \\\n",
       "count  41188.00000  41188.000000  41188.000000  41188.000000  41188.000000   \n",
       "mean      40.02406    258.285010      2.567593    962.475454      0.172963   \n",
       "std       10.42125    259.279249      2.770014    186.910907      0.494901   \n",
       "min       17.00000      0.000000      1.000000      0.000000      0.000000   \n",
       "25%       32.00000    102.000000      1.000000    999.000000      0.000000   \n",
       "50%       38.00000    180.000000      2.000000    999.000000      0.000000   \n",
       "75%       47.00000    319.000000      3.000000    999.000000      0.000000   \n",
       "max       98.00000   4918.000000     56.000000    999.000000      7.000000   \n",
       "\n",
       "       emp.var.rate  cons.price.idx  cons.conf.idx     euribor3m   nr.employed  \n",
       "count  41188.000000    41188.000000   41188.000000  41188.000000  41188.000000  \n",
       "mean       0.081886       93.575664     -40.502600      3.621291   5167.035911  \n",
       "std        1.570960        0.578840       4.628198      1.734447     72.251528  \n",
       "min       -3.400000       92.201000     -50.800000      0.634000   4963.600000  \n",
       "25%       -1.800000       93.075000     -42.700000      1.344000   5099.100000  \n",
       "50%        1.100000       93.749000     -41.800000      4.857000   5191.000000  \n",
       "75%        1.400000       93.994000     -36.400000      4.961000   5228.100000  \n",
       "max        1.400000       94.767000     -26.900000      5.045000   5228.100000  "
      ]
     },
     "execution_count": 11,
     "metadata": {},
     "output_type": "execute_result"
    }
   ],
   "source": [
    "term_deposit_data.describe()"
   ]
  },
  {
   "cell_type": "markdown",
   "id": "269f04a0",
   "metadata": {},
   "source": [
    "**Findings**\n",
    "\n",
    "* For **age**, mean and median values are relatively close, so the distribution is closer to a normal distribution\n",
    "\n",
    "* For **campaign**, though mean and median are close, the max value is very high, showing a possibility of outlier in the variable"
   ]
  },
  {
   "cell_type": "markdown",
   "id": "cb317873",
   "metadata": {},
   "source": [
    "##### Boxplots"
   ]
  },
  {
   "cell_type": "code",
   "execution_count": 12,
   "id": "555e2351",
   "metadata": {},
   "outputs": [
    {
     "data": {
      "image/png": "[encoded data removed]",
      "text/plain": [
       "<Figure size 1152x864 with 10 Axes>"
      ]
     },
     "metadata": {
      "needs_background": "light"
     },
     "output_type": "display_data"
    }
   ],
   "source": [
    "fig, axes = plt.subplots(2, 5, figsize = (16, 12))\n",
    "fig.subplots_adjust(hspace = 0.5, wspace = 0.5)\n",
    "axes = axes.ravel()\n",
    "\n",
    "i = 0\n",
    "for column in term_deposit_data.columns[[is_numeric_dtype(term_deposit_data[column]) for column in term_deposit_data.columns]]:\n",
    "    column_series = term_deposit_data[column]\n",
    "    \n",
    "    term_deposit_data[[column]].boxplot(ax=axes[i])\n",
    "    i += 1\n",
    "plt.show()"
   ]
  },
  {
   "cell_type": "markdown",
   "id": "6e86fa6d",
   "metadata": {},
   "source": [
    "**Findings**\n",
    "\n",
    "* There are outliers in **age**, **duration**, **campaign** and **cons.conf.idx**\n",
    "\n",
    "* Outliers in **previous** can be ignored as majority of values in previous are 0 (new clients), hence cannot be used to decide the cut-off for outliers"
   ]
  },
  {
   "cell_type": "markdown",
   "id": "5c6c0430",
   "metadata": {},
   "source": [
    "#### Bivariate Analysis"
   ]
  },
  {
   "cell_type": "markdown",
   "id": "32b363ce",
   "metadata": {},
   "source": [
    "Bivariate analysis involves the analysis of two variables for the purpose of determining the empirical relationship between them."
   ]
  },
  {
   "cell_type": "markdown",
   "id": "f7b55713",
   "metadata": {},
   "source": [
    "##### Correlation Plot"
   ]
  },
  {
   "cell_type": "markdown",
   "id": "e0fe4e8f",
   "metadata": {},
   "source": [
    "In this section, we will compute pair-wise correlation between features. The correlation coefficients considered are as follows:\n",
    "\n",
    "* **Pearson Correlation:** It shows the co-movement of two variables and is applicable when both variables are numerical\n",
    "\n",
    "* **Correlation Ratio:** It defines, given a continuous number, how well can the category for that number be found and is applicable when one variable is numerical and the other is categorical\n",
    "\n",
    "* **Theil's U:** The Uncertainty Coefficient, is based on the conditional entropy between x and y, and defines how many and how frequenctly occuring states does y have for a given x. It is applicable when both variables are categorical"
   ]
  },
  {
   "cell_type": "code",
   "execution_count": 13,
   "id": "5ffdead3",
   "metadata": {},
   "outputs": [],
   "source": [
    "correlation_df = compute_correlation(term_deposit_data)"
   ]
  },
  {
   "cell_type": "code",
   "execution_count": 14,
   "id": "88ebd141",
   "metadata": {},
   "outputs": [
    {
     "data": {
      "image/png": "[encoded data removed]",
      "text/plain": [
       "<Figure size 1152x1152 with 2 Axes>"
      ]
     },
     "metadata": {
      "needs_background": "light"
     },
     "output_type": "display_data"
    }
   ],
   "source": [
    "fig, ax = plt.subplots(figsize=(16,16))\n",
    "sns.heatmap(correlation_df, annot=True)\n",
    "plt.show()"
   ]
  },
  {
   "cell_type": "markdown",
   "id": "3807606a",
   "metadata": {},
   "source": [
    "**Findings**\n",
    "\n",
    "* **poutcome** has a high correlation with **pdays** and **previous**\n",
    "\n",
    "* **nr.employed** has a high correlation with **euribor3m**"
   ]
  },
  {
   "cell_type": "markdown",
   "id": "a4c32a50",
   "metadata": {},
   "source": [
    "##### Data Distribution"
   ]
  },
  {
   "cell_type": "code",
   "execution_count": 15,
   "id": "dde479ae",
   "metadata": {},
   "outputs": [
    {
     "data": {
      "image/png": "[encoded data removed]",
      "text/plain": [
       "<Figure size 1152x1152 with 20 Axes>"
      ]
     },
     "metadata": {
      "needs_background": "light"
     },
     "output_type": "display_data"
    }
   ],
   "source": [
    "fig, axes = plt.subplots(5, 4, figsize = (16, 16))\n",
    "fig.subplots_adjust(hspace = 1, wspace = 0.5)\n",
    "axes = axes.ravel()\n",
    "kwargs = {'alpha': 0.5}\n",
    "\n",
    "for i, column in enumerate(term_deposit_data.columns[:-1]):\n",
    "    column_series = term_deposit_data[column]\n",
    "    sample_class = term_deposit_data['y']\n",
    "    \n",
    "    axes[i].hist(column_series[sample_class == 'no'], **kwargs, label='no')\n",
    "    axes[i].hist(column_series[sample_class == 'yes'], **kwargs, label='yes')\n",
    "    axes[i].legend()\n",
    "    axes[i].set_title(column)\n",
    "    \n",
    "    if(column_series.dtype == 'object'):\n",
    "        axes[i].tick_params(axis='x', labelrotation=90)\n",
    "plt.show()"
   ]
  },
  {
   "cell_type": "markdown",
   "id": "84f52f83",
   "metadata": {},
   "source": [
    "**Findings**\n",
    "\n",
    "* Though there is an imbalance in the number of negative and positive samples, the distribution within each group is similar"
   ]
  },
  {
   "cell_type": "markdown",
   "id": "42c397a7",
   "metadata": {},
   "source": [
    "##### Boxplots"
   ]
  },
  {
   "cell_type": "code",
   "execution_count": 16,
   "id": "4e3925c6",
   "metadata": {},
   "outputs": [
    {
     "data": {
      "image/png": "[encoded data removed]",
      "text/plain": [
       "<Figure size 1152x864 with 10 Axes>"
      ]
     },
     "metadata": {
      "needs_background": "light"
     },
     "output_type": "display_data"
    }
   ],
   "source": [
    "fig, axes = plt.subplots(2, 5, figsize = (16, 12))\n",
    "fig.subplots_adjust(hspace = 0.5, wspace = 0.5)\n",
    "axes = axes.ravel()\n",
    "\n",
    "i = 0\n",
    "for column in term_deposit_data.columns[[is_numeric_dtype(term_deposit_data[column]) for column in term_deposit_data.columns]]:\n",
    "    column_series = term_deposit_data[column]\n",
    "    sample_class = term_deposit_data['y']\n",
    "    \n",
    "    term_deposit_data[[column]].boxplot(ax=axes[i])\n",
    "    term_deposit_data[[column, 'y']].boxplot(by='y', ax=axes[i])\n",
    "    i += 1\n",
    "plt.show()"
   ]
  },
  {
   "cell_type": "markdown",
   "id": "0714a1f3",
   "metadata": {},
   "source": [
    "### Data Preprocessing"
   ]
  },
  {
   "cell_type": "markdown",
   "id": "5e0cffaf",
   "metadata": {},
   "source": [
    "#### Feature Removal"
   ]
  },
  {
   "cell_type": "markdown",
   "id": "ddb99072",
   "metadata": {},
   "source": [
    "We are removing **duration** as a feature as it would not be available when the final model is deployed."
   ]
  },
  {
   "cell_type": "code",
   "execution_count": 17,
   "id": "fd143a28",
   "metadata": {},
   "outputs": [],
   "source": [
    "term_deposit_data.drop(columns=['duration'], inplace=True)"
   ]
  },
  {
   "cell_type": "markdown",
   "id": "d800276a",
   "metadata": {},
   "source": [
    "#### Train-Test Split"
   ]
  },
  {
   "cell_type": "markdown",
   "id": "f27288d3",
   "metadata": {},
   "source": [
    "We will split the dataset into:\n",
    "\n",
    "* **Train Set:** This set will be used to train the model - 80%\n",
    "\n",
    "* **Test Set:** This is the held-out set which will be used to get the generalization error of the model (to simulate performance on unseen data post deployment) - 20%"
   ]
  },
  {
   "cell_type": "code",
   "execution_count": 18,
   "id": "e48b83fc",
   "metadata": {},
   "outputs": [],
   "source": [
    "train_set, test_set = train_test_split(term_deposit_data, test_size = 0.2, random_state = 42)"
   ]
  },
  {
   "cell_type": "markdown",
   "id": "b05eeda0",
   "metadata": {},
   "source": [
    "#### Missing Value Treatment"
   ]
  },
  {
   "cell_type": "markdown",
   "id": "7ba38d34",
   "metadata": {},
   "source": [
    "As mentioned earlier, all missing values in our dataset are present in the categorical column. Hence, we will be treating the missing values by replacing them using the **mode** of the column."
   ]
  },
  {
   "cell_type": "code",
   "execution_count": 19,
   "id": "5c70bcaf",
   "metadata": {},
   "outputs": [],
   "source": [
    "train_set, test_set = missing_value_mode_treatment(train_set, test_set)"
   ]
  },
  {
   "cell_type": "markdown",
   "id": "1eb98e19",
   "metadata": {},
   "source": [
    "#### Outlier Treatment"
   ]
  },
  {
   "cell_type": "markdown",
   "id": "0fc1633d",
   "metadata": {},
   "source": [
    "As we saw in the univariate and bivariate boxplots, outliers were present in  **age**, **campaign** and **cons.conf.idx**.\n",
    "\n",
    "* For **age** and **campaign**, we will take a log transformation to remove skewness \n",
    "\n",
    "* For all oulier columns, we will use Inter Quartile Range to cap values > Q3 + 1.5 * IQR and < Q1 - 1.5 * IQR to Q3 and Q1 respectively"
   ]
  },
  {
   "cell_type": "code",
   "execution_count": 20,
   "id": "d39ada32",
   "metadata": {},
   "outputs": [],
   "source": [
    "train_set['age'] = np.log(train_set['age'])\n",
    "test_set['age'] = np.log(test_set['age'])\n",
    "train_set['age'], test_set['age'] = remove_outliers_iqr(train_set['age'], test_set['age'])"
   ]
  },
  {
   "cell_type": "code",
   "execution_count": 21,
   "id": "426424ae",
   "metadata": {},
   "outputs": [],
   "source": [
    "train_set['campaign'] = np.log(train_set['campaign'])\n",
    "test_set['campaign'] = np.log(test_set['campaign'])\n",
    "train_set['campaign'], test_set['campaign'] = remove_outliers_iqr(train_set['campaign'], test_set['campaign'])"
   ]
  },
  {
   "cell_type": "code",
   "execution_count": 22,
   "id": "aca3c0f0",
   "metadata": {},
   "outputs": [],
   "source": [
    "train_set['cons.conf.idx'], test_set['cons.conf.idx'] = remove_outliers_iqr(train_set['cons.conf.idx'], test_set['cons.conf.idx'])"
   ]
  },
  {
   "cell_type": "markdown",
   "id": "dd10d2ba",
   "metadata": {},
   "source": [
    "#### Feature Scaling"
   ]
  },
  {
   "cell_type": "markdown",
   "id": "f6cb7518",
   "metadata": {},
   "source": [
    "We will use MinMaxScaling to get all variables in the range between 0 and 1 to prevent any one variable from dominating in any learning algorithm."
   ]
  },
  {
   "cell_type": "code",
   "execution_count": 23,
   "id": "4caf9c46",
   "metadata": {},
   "outputs": [],
   "source": [
    "train_set, test_set = min_max_scaling(train_set, test_set)"
   ]
  },
  {
   "cell_type": "markdown",
   "id": "61919a77",
   "metadata": {},
   "source": [
    "#### Encoding Categorical Variables"
   ]
  },
  {
   "cell_type": "code",
   "execution_count": 24,
   "id": "e96ecd8a",
   "metadata": {},
   "outputs": [],
   "source": [
    "list_of_categorical_columns = list(train_set.columns[train_set.dtypes == 'object'])[:-1]"
   ]
  },
  {
   "cell_type": "markdown",
   "id": "75fb5715",
   "metadata": {},
   "source": [
    "##### Target Variable"
   ]
  },
  {
   "cell_type": "code",
   "execution_count": 25,
   "id": "2761e99b",
   "metadata": {},
   "outputs": [],
   "source": [
    "le = LabelEncoder()\n",
    "\n",
    "train_set['y'] = le.fit_transform(train_set['y'])\n",
    "test_set['y'] = le.transform(test_set['y'])"
   ]
  },
  {
   "cell_type": "markdown",
   "id": "6bae19e2",
   "metadata": {},
   "source": [
    "##### Predictor Variables"
   ]
  },
  {
   "cell_type": "code",
   "execution_count": 26,
   "id": "6d16b925",
   "metadata": {},
   "outputs": [],
   "source": [
    "oe = OrdinalEncoder()\n",
    "\n",
    "train_set_label_enc = train_set.copy()\n",
    "test_set_label_enc = test_set.copy()\n",
    "\n",
    "train_set_label_enc[list_of_categorical_columns] = oe.fit_transform(train_set[list_of_categorical_columns])\n",
    "test_set_label_enc[list_of_categorical_columns] = oe.transform(test_set[list_of_categorical_columns])"
   ]
  },
  {
   "cell_type": "markdown",
   "id": "cf5a903c",
   "metadata": {},
   "source": [
    "### Experiments"
   ]
  },
  {
   "cell_type": "markdown",
   "id": "8f635224",
   "metadata": {},
   "source": [
    "#### Experiment 1 - Logistic Regression"
   ]
  },
  {
   "cell_type": "markdown",
   "id": "c6b999b2",
   "metadata": {},
   "source": [
    "##### Details"
   ]
  },
  {
   "cell_type": "markdown",
   "id": "5d50d1eb",
   "metadata": {},
   "source": [
    "In this experiment, we will run a Logistic Regression classifier using **default parameters** for the model."
   ]
  },
  {
   "cell_type": "markdown",
   "id": "77a02762",
   "metadata": {},
   "source": [
    "##### Modeling"
   ]
  },
  {
   "cell_type": "markdown",
   "id": "62ab32ad",
   "metadata": {},
   "source": [
    "###### Logistic Regression "
   ]
  },
  {
   "cell_type": "code",
   "execution_count": 27,
   "id": "dfd85fb2",
   "metadata": {},
   "outputs": [],
   "source": [
    "# Initialize a LogisticRegression model object\n",
    "logreg_model = LogisticRegression()\n",
    "\n",
    "# Run K-Fold cross-validation to get an idea of the generalization error and stability of the model\n",
    "scores = cross_validate(logreg_model, \n",
    "                         train_set_label_enc.drop(columns=['y']), \n",
    "                         train_set_label_enc['y'], \n",
    "                         cv=10, \n",
    "                         scoring=['accuracy', 'precision', 'recall', 'f1'])"
   ]
  },
  {
   "cell_type": "code",
   "execution_count": 28,
   "id": "5c432f7a",
   "metadata": {},
   "outputs": [
    {
     "data": {
      "text/plain": [
       "LogisticRegression(C=1.0, class_weight=None, dual=False, fit_intercept=True,\n",
       "                   intercept_scaling=1, l1_ratio=None, max_iter=100,\n",
       "                   multi_class='auto', n_jobs=None, penalty='l2',\n",
       "                   random_state=None, solver='lbfgs', tol=0.0001, verbose=0,\n",
       "                   warm_start=False)"
      ]
     },
     "execution_count": 28,
     "metadata": {},
     "output_type": "execute_result"
    }
   ],
   "source": [
    "# Fit model on all training set\n",
    "logreg_model = LogisticRegression()\n",
    "logreg_model.fit(train_set_label_enc.drop(columns=['y']), train_set_label_enc['y'])"
   ]
  },
  {
   "cell_type": "markdown",
   "id": "fbfb857d",
   "metadata": {},
   "source": [
    "##### Model Evaluation"
   ]
  },
  {
   "cell_type": "markdown",
   "id": "3b4fc832",
   "metadata": {},
   "source": [
    "We will look at the following metrics to evaluate our model's performance:\n",
    "\n",
    "* Accuracy: Fraction of correct predictions by the model\n",
    "\n",
    "* Precision: Fraction of relevant instances among the retrieved instances (positive predictive value)\n",
    "\n",
    "* **Recall:** Fraction of retrieved relevant instances among all relevant instances (sensitivity)\n",
    "\n",
    "* F1 Score: Harmonic mean of precision and recall "
   ]
  },
  {
   "cell_type": "markdown",
   "id": "992335f5",
   "metadata": {},
   "source": [
    "We will use **Recall** to compare our models as we would like to capitalize on all **positive opportunities** from a business point of view."
   ]
  },
  {
   "cell_type": "markdown",
   "id": "9450e389",
   "metadata": {},
   "source": [
    "###### Training Performance"
   ]
  },
  {
   "cell_type": "code",
   "execution_count": 29,
   "id": "8bc22455",
   "metadata": {},
   "outputs": [],
   "source": [
    "data = {\n",
    "    'Accuracy': scores['test_accuracy'],\n",
    "    'Precision': scores['test_precision'],\n",
    "    'Recall': scores['test_recall'],\n",
    "    'F1 Score': scores['test_f1']\n",
    "}\n",
    "\n",
    "category_labels = ['Fold ' + str(idx) for idx in range(1, len(data['Accuracy']) + 1)]"
   ]
  },
  {
   "cell_type": "code",
   "execution_count": 30,
   "id": "94f4bb2b",
   "metadata": {},
   "outputs": [
    {
     "data": {
      "image/png": "[encoded data removed]",
      "text/plain": [
       "<Figure size 864x432 with 1 Axes>"
      ]
     },
     "metadata": {
      "needs_background": "light"
     },
     "output_type": "display_data"
    }
   ],
   "source": [
    "fig = plt.figure(figsize=(12, 6))\n",
    "barWidth = 0.25\n",
    "\n",
    "r = np.arange(1, len(data['Accuracy']) + 1)\n",
    "for metric, values in data.items():\n",
    "    plt.bar(r, values, width = barWidth, label = metric)\n",
    "    r = [x + barWidth for x in r]\n",
    "    \n",
    "plt.xlabel('Fold')\n",
    "plt.xticks([r + 2 * barWidth for r in range(1, len(data['Accuracy']) + 1)], category_labels)\n",
    "\n",
    "plt.legend()\n",
    "plt.show()"
   ]
  },
  {
   "cell_type": "markdown",
   "id": "e99a5db6",
   "metadata": {},
   "source": [
    "**Findings**\n",
    "\n",
    "* All performance metrics are relatively stable across folds. Hence, there is low variance in the model\n",
    "\n",
    "* The overall accuracy on the training set is very high. This is due to class imbalance as predicting everything as negative class would automatically result in high accuracy\n",
    "\n",
    "* Recall values are low for the classifier"
   ]
  },
  {
   "cell_type": "markdown",
   "id": "e724fc64",
   "metadata": {},
   "source": [
    "###### Test Performance"
   ]
  },
  {
   "cell_type": "code",
   "execution_count": 31,
   "id": "7e45fc84",
   "metadata": {},
   "outputs": [],
   "source": [
    "predictions = logreg_model.predict(test_set_label_enc.drop(columns='y'))"
   ]
  },
  {
   "cell_type": "code",
   "execution_count": 32,
   "id": "7dd0333d",
   "metadata": {},
   "outputs": [],
   "source": [
    "test_accuracy = accuracy_score(test_set_label_enc['y'], predictions)\n",
    "test_precision = precision_score(test_set_label_enc['y'], predictions)\n",
    "test_recall = recall_score(test_set_label_enc['y'], predictions)\n",
    "test_f_score = f1_score(test_set_label_enc['y'], predictions)"
   ]
  },
  {
   "cell_type": "code",
   "execution_count": 33,
   "id": "c855f6d4",
   "metadata": {},
   "outputs": [],
   "source": [
    "data = {\n",
    "    'Accuracy': [np.mean(scores['test_accuracy']), test_accuracy],\n",
    "    'Precision': [np.mean(scores['test_precision']), test_precision],\n",
    "    'Recall': [np.mean(scores['test_recall']), test_recall],\n",
    "    'F1 Score': [np.mean(scores['test_f1']), test_f_score]\n",
    "}\n",
    "\n",
    "category_labels = ['Training', 'Test']"
   ]
  },
  {
   "cell_type": "code",
   "execution_count": 34,
   "id": "bacdc581",
   "metadata": {
    "scrolled": false
   },
   "outputs": [
    {
     "data": {
      "image/png": "[encoded data removed]",
      "text/plain": [
       "<Figure size 864x432 with 1 Axes>"
      ]
     },
     "metadata": {
      "needs_background": "light"
     },
     "output_type": "display_data"
    }
   ],
   "source": [
    "fig = plt.figure(figsize=(12, 6))\n",
    "barWidth = 0.25\n",
    "\n",
    "r = np.arange(1, 3)\n",
    "\n",
    "for metric, values in data.items():\n",
    "    plt.bar(r, values, width = barWidth, label = metric)\n",
    "    r = [x + barWidth for x in r]\n",
    "    \n",
    "plt.xlabel('Fold')\n",
    "plt.xticks([r + barWidth for r in range(1, len(data['Accuracy']) + 1)], category_labels)\n",
    "\n",
    "plt.legend()\n",
    "plt.show()"
   ]
  },
  {
   "cell_type": "markdown",
   "id": "06172804",
   "metadata": {},
   "source": [
    "**Findings**\n",
    "\n",
    "* Performance of the classifier on training and test set is almost equal. Hence, the classifier is not overfitting to the test set\n",
    "\n",
    "* Recall values for the classifier are low, i.e., the model is not complex enough to adequately fit the dataset"
   ]
  },
  {
   "cell_type": "markdown",
   "id": "fb191d0a",
   "metadata": {},
   "source": [
    "##### Model Interpretation"
   ]
  },
  {
   "cell_type": "markdown",
   "id": "19e11009",
   "metadata": {},
   "source": [
    "###### Model Summary"
   ]
  },
  {
   "cell_type": "code",
   "execution_count": 35,
   "id": "7827d248",
   "metadata": {},
   "outputs": [
    {
     "data": {
      "text/html": [
       "<div>\n",
       "<style scoped>\n",
       "    .dataframe tbody tr th:only-of-type {\n",
       "        vertical-align: middle;\n",
       "    }\n",
       "\n",
       "    .dataframe tbody tr th {\n",
       "        vertical-align: top;\n",
       "    }\n",
       "\n",
       "    .dataframe thead th {\n",
       "        text-align: right;\n",
       "    }\n",
       "</style>\n",
       "<table border=\"1\" class=\"dataframe\">\n",
       "  <thead>\n",
       "    <tr style=\"text-align: right;\">\n",
       "      <th></th>\n",
       "      <th>Coefficients</th>\n",
       "      <th>Standard Errors</th>\n",
       "      <th>t values</th>\n",
       "      <th>Probabilities</th>\n",
       "    </tr>\n",
       "  </thead>\n",
       "  <tbody>\n",
       "    <tr>\n",
       "      <th>Constant</th>\n",
       "      <td>-0.3726</td>\n",
       "      <td>0.043</td>\n",
       "      <td>-8.719</td>\n",
       "      <td>0.000</td>\n",
       "    </tr>\n",
       "    <tr>\n",
       "      <th>age</th>\n",
       "      <td>0.0962</td>\n",
       "      <td>0.012</td>\n",
       "      <td>8.195</td>\n",
       "      <td>0.000</td>\n",
       "    </tr>\n",
       "    <tr>\n",
       "      <th>job</th>\n",
       "      <td>0.0090</td>\n",
       "      <td>0.000</td>\n",
       "      <td>18.118</td>\n",
       "      <td>0.000</td>\n",
       "    </tr>\n",
       "    <tr>\n",
       "      <th>marital</th>\n",
       "      <td>0.0729</td>\n",
       "      <td>0.003</td>\n",
       "      <td>22.965</td>\n",
       "      <td>0.000</td>\n",
       "    </tr>\n",
       "    <tr>\n",
       "      <th>education</th>\n",
       "      <td>0.0368</td>\n",
       "      <td>0.001</td>\n",
       "      <td>42.694</td>\n",
       "      <td>0.000</td>\n",
       "    </tr>\n",
       "    <tr>\n",
       "      <th>default</th>\n",
       "      <td>-0.0338</td>\n",
       "      <td>0.182</td>\n",
       "      <td>-0.186</td>\n",
       "      <td>0.852</td>\n",
       "    </tr>\n",
       "    <tr>\n",
       "      <th>housing</th>\n",
       "      <td>-0.0324</td>\n",
       "      <td>0.004</td>\n",
       "      <td>-9.251</td>\n",
       "      <td>0.000</td>\n",
       "    </tr>\n",
       "    <tr>\n",
       "      <th>loan</th>\n",
       "      <td>0.0073</td>\n",
       "      <td>0.005</td>\n",
       "      <td>1.516</td>\n",
       "      <td>0.129</td>\n",
       "    </tr>\n",
       "    <tr>\n",
       "      <th>contact</th>\n",
       "      <td>-0.7986</td>\n",
       "      <td>0.005</td>\n",
       "      <td>-145.810</td>\n",
       "      <td>0.000</td>\n",
       "    </tr>\n",
       "    <tr>\n",
       "      <th>month</th>\n",
       "      <td>-0.0804</td>\n",
       "      <td>0.001</td>\n",
       "      <td>-79.521</td>\n",
       "      <td>0.000</td>\n",
       "    </tr>\n",
       "    <tr>\n",
       "      <th>day_of_week</th>\n",
       "      <td>0.0579</td>\n",
       "      <td>0.001</td>\n",
       "      <td>46.419</td>\n",
       "      <td>0.000</td>\n",
       "    </tr>\n",
       "    <tr>\n",
       "      <th>campaign</th>\n",
       "      <td>-0.3081</td>\n",
       "      <td>0.007</td>\n",
       "      <td>-43.358</td>\n",
       "      <td>0.000</td>\n",
       "    </tr>\n",
       "    <tr>\n",
       "      <th>pdays</th>\n",
       "      <td>-0.8913</td>\n",
       "      <td>0.023</td>\n",
       "      <td>-39.065</td>\n",
       "      <td>0.000</td>\n",
       "    </tr>\n",
       "    <tr>\n",
       "      <th>previous</th>\n",
       "      <td>-0.4046</td>\n",
       "      <td>0.057</td>\n",
       "      <td>-7.102</td>\n",
       "      <td>0.000</td>\n",
       "    </tr>\n",
       "    <tr>\n",
       "      <th>poutcome</th>\n",
       "      <td>0.4945</td>\n",
       "      <td>0.010</td>\n",
       "      <td>48.450</td>\n",
       "      <td>0.000</td>\n",
       "    </tr>\n",
       "    <tr>\n",
       "      <th>emp.var.rate</th>\n",
       "      <td>-3.5108</td>\n",
       "      <td>0.035</td>\n",
       "      <td>-100.832</td>\n",
       "      <td>0.000</td>\n",
       "    </tr>\n",
       "    <tr>\n",
       "      <th>cons.price.idx</th>\n",
       "      <td>2.4730</td>\n",
       "      <td>0.024</td>\n",
       "      <td>103.945</td>\n",
       "      <td>0.000</td>\n",
       "    </tr>\n",
       "    <tr>\n",
       "      <th>cons.conf.idx</th>\n",
       "      <td>0.7876</td>\n",
       "      <td>0.017</td>\n",
       "      <td>46.749</td>\n",
       "      <td>0.000</td>\n",
       "    </tr>\n",
       "    <tr>\n",
       "      <th>euribor3m</th>\n",
       "      <td>1.1722</td>\n",
       "      <td>0.043</td>\n",
       "      <td>27.208</td>\n",
       "      <td>0.000</td>\n",
       "    </tr>\n",
       "    <tr>\n",
       "      <th>nr.employed</th>\n",
       "      <td>-1.6944</td>\n",
       "      <td>0.041</td>\n",
       "      <td>-40.849</td>\n",
       "      <td>0.000</td>\n",
       "    </tr>\n",
       "  </tbody>\n",
       "</table>\n",
       "</div>"
      ],
      "text/plain": [
       "                Coefficients  Standard Errors  t values  Probabilities\n",
       "Constant             -0.3726            0.043    -8.719          0.000\n",
       "age                   0.0962            0.012     8.195          0.000\n",
       "job                   0.0090            0.000    18.118          0.000\n",
       "marital               0.0729            0.003    22.965          0.000\n",
       "education             0.0368            0.001    42.694          0.000\n",
       "default              -0.0338            0.182    -0.186          0.852\n",
       "housing              -0.0324            0.004    -9.251          0.000\n",
       "loan                  0.0073            0.005     1.516          0.129\n",
       "contact              -0.7986            0.005  -145.810          0.000\n",
       "month                -0.0804            0.001   -79.521          0.000\n",
       "day_of_week           0.0579            0.001    46.419          0.000\n",
       "campaign             -0.3081            0.007   -43.358          0.000\n",
       "pdays                -0.8913            0.023   -39.065          0.000\n",
       "previous             -0.4046            0.057    -7.102          0.000\n",
       "poutcome              0.4945            0.010    48.450          0.000\n",
       "emp.var.rate         -3.5108            0.035  -100.832          0.000\n",
       "cons.price.idx        2.4730            0.024   103.945          0.000\n",
       "cons.conf.idx         0.7876            0.017    46.749          0.000\n",
       "euribor3m             1.1722            0.043    27.208          0.000\n",
       "nr.employed          -1.6944            0.041   -40.849          0.000"
      ]
     },
     "execution_count": 35,
     "metadata": {},
     "output_type": "execute_result"
    }
   ],
   "source": [
    "model_summary = get_model_summary(logreg_model, train_set_label_enc.drop(columns=['y']), train_set_label_enc['y'])\n",
    "model_summary"
   ]
  },
  {
   "cell_type": "markdown",
   "id": "234901a0",
   "metadata": {},
   "source": [
    "**Findings**\n",
    "\n",
    "* Apart from **default** aand **loan**, all other features are significant at 95% confidence level\n",
    "\n",
    "* **emp.var.rate** and **cons.price.idx** are very important features"
   ]
  },
  {
   "cell_type": "markdown",
   "id": "addb59e5",
   "metadata": {},
   "source": [
    "###### Variable Importance"
   ]
  },
  {
   "cell_type": "code",
   "execution_count": 36,
   "id": "e4b1a3cf",
   "metadata": {},
   "outputs": [
    {
     "data": {
      "image/png": "[encoded data removed]",
      "text/plain": [
       "<Figure size 1152x576 with 1 Axes>"
      ]
     },
     "metadata": {
      "needs_background": "light"
     },
     "output_type": "display_data"
    }
   ],
   "source": [
    "fig = plt.figure(figsize=(16, 8))\n",
    "barWidth = 0.5\n",
    "\n",
    "r = np.arange(1, len(model_summary) + 1)\n",
    "\n",
    "plt.bar(r, model_summary['Coefficients'], width = barWidth, label = list(model_summary.index))\n",
    "\n",
    "plt.xlabel('Variable')\n",
    "plt.xticks([r for r in range(1, len(model_summary) + 1)], list(model_summary.index), rotation=90)\n",
    "\n",
    "plt.show()"
   ]
  },
  {
   "cell_type": "markdown",
   "id": "7ee79907",
   "metadata": {},
   "source": [
    "###### Shapley Values"
   ]
  },
  {
   "cell_type": "markdown",
   "id": "07fdc30a",
   "metadata": {},
   "source": [
    "It is the average of the marginal contributions across all permutations of variables and is a model agnostic approach towards model interpretibilty."
   ]
  },
  {
   "cell_type": "code",
   "execution_count": 37,
   "id": "7261a8c9",
   "metadata": {},
   "outputs": [],
   "source": [
    "explainer = shap.Explainer(logreg_model, train_set_label_enc.drop(columns=['y']))"
   ]
  },
  {
   "cell_type": "code",
   "execution_count": 38,
   "id": "5d0bdcc6",
   "metadata": {},
   "outputs": [],
   "source": [
    "shap_values = explainer(test_set_label_enc.drop(columns=['y']))"
   ]
  },
  {
   "cell_type": "code",
   "execution_count": 39,
   "id": "dd008f2d",
   "metadata": {
    "scrolled": false
   },
   "outputs": [
    {
     "data": {
      "image/png": "[encoded data removed]",
      "text/plain": [
       "<Figure size 576x655.2 with 2 Axes>"
      ]
     },
     "metadata": {
      "needs_background": "light"
     },
     "output_type": "display_data"
    }
   ],
   "source": [
    "shap.summary_plot(shap_values, test_set_label_enc.drop(columns=['y']))"
   ]
  },
  {
   "cell_type": "markdown",
   "id": "873ca128",
   "metadata": {},
   "source": [
    "**Findings**\n",
    "\n",
    "* ADDITIONAL ATTRIBUTES like **emp.var.rate** and **cons.price.idx** have a higher importance in predicting classes."
   ]
  },
  {
   "cell_type": "markdown",
   "id": "1765d566",
   "metadata": {},
   "source": [
    "#### Experiment 2 - Logistic Regression with Hyper-parameter Tuning"
   ]
  },
  {
   "cell_type": "markdown",
   "id": "f6c1fc94",
   "metadata": {},
   "source": [
    "##### Details"
   ]
  },
  {
   "cell_type": "markdown",
   "id": "f3f5e7b7",
   "metadata": {},
   "source": [
    "In this experiment, we will run a Logistic Regression classifier with optimal hyper-parameters based on parameter tuning using grid search"
   ]
  },
  {
   "cell_type": "markdown",
   "id": "69bfa211",
   "metadata": {},
   "source": [
    "##### Modeling"
   ]
  },
  {
   "cell_type": "markdown",
   "id": "be7a7bf1",
   "metadata": {},
   "source": [
    "###### Logistic Regression "
   ]
  },
  {
   "cell_type": "code",
   "execution_count": 40,
   "id": "c107b611",
   "metadata": {},
   "outputs": [],
   "source": [
    "# Define LogisticRegression model object, hyper-parameter grid and run GridSearchCV\n",
    "logreg_model = LogisticRegression()\n",
    "\n",
    "solvers = ['newton-cg', 'lbfgs', 'liblinear']\n",
    "\n",
    "penalty = ['l1', 'l2']\n",
    "\n",
    "c_values = [100, 10, 1.0, 0.1, 0.01]\n",
    "\n",
    "grid = dict(solver = solvers, penalty = penalty, C = c_values)\n",
    "\n",
    "grid_search = GridSearchCV(estimator=logreg_model, param_grid=grid, n_jobs=1, scoring='recall')\n",
    "grid_result = grid_search.fit(train_set_label_enc.drop(columns=['y']), train_set_label_enc['y'])"
   ]
  },
  {
   "cell_type": "code",
   "execution_count": 41,
   "id": "a9364ae0",
   "metadata": {},
   "outputs": [
    {
     "data": {
      "text/plain": [
       "{'C': 100, 'penalty': 'l2', 'solver': 'liblinear'}"
      ]
     },
     "execution_count": 41,
     "metadata": {},
     "output_type": "execute_result"
    }
   ],
   "source": [
    "# Output best parameters\n",
    "grid_result.best_params_"
   ]
  },
  {
   "cell_type": "code",
   "execution_count": 42,
   "id": "34c04085",
   "metadata": {},
   "outputs": [],
   "source": [
    "# Run LogisticRegression model with optimal hyper-parameters\n",
    "logreg_model = LogisticRegression(C=100, penalty='l2', solver='liblinear')"
   ]
  },
  {
   "cell_type": "code",
   "execution_count": 43,
   "id": "98226d1a",
   "metadata": {},
   "outputs": [],
   "source": [
    "scores = cross_validate(logreg_model, \n",
    "                         train_set_label_enc.drop(columns=['y']), \n",
    "                         train_set_label_enc['y'], \n",
    "                         cv=10, \n",
    "                         scoring=['accuracy', 'precision', 'recall', 'f1'])"
   ]
  },
  {
   "cell_type": "code",
   "execution_count": 44,
   "id": "83ec2cf6",
   "metadata": {},
   "outputs": [
    {
     "data": {
      "text/plain": [
       "LogisticRegression(C=100, class_weight=None, dual=False, fit_intercept=True,\n",
       "                   intercept_scaling=1, l1_ratio=None, max_iter=100,\n",
       "                   multi_class='auto', n_jobs=None, penalty='l2',\n",
       "                   random_state=None, solver='liblinear', tol=0.0001, verbose=0,\n",
       "                   warm_start=False)"
      ]
     },
     "execution_count": 44,
     "metadata": {},
     "output_type": "execute_result"
    }
   ],
   "source": [
    "logreg_model = LogisticRegression(C=100, penalty='l2', solver='liblinear')\n",
    "logreg_model.fit(train_set_label_enc.drop(columns=['y']), train_set_label_enc['y'])"
   ]
  },
  {
   "cell_type": "markdown",
   "id": "d3cb623e",
   "metadata": {},
   "source": [
    "##### Model Evaluation"
   ]
  },
  {
   "cell_type": "markdown",
   "id": "3319782d",
   "metadata": {},
   "source": [
    "We will look at the following metrics to evaluate our model's performance:\n",
    "\n",
    "* Accuracy: Fraction of correct predictions by the model\n",
    "\n",
    "* Precision: Fraction of relevant instances among the retrieved instances (positive predictive value)\n",
    "\n",
    "* **Recall:** Fraction of retrieved relevant instances among all relevant instances (sensitivity)\n",
    "\n",
    "* F1 Score: Harmonic mean of precision and recall "
   ]
  },
  {
   "cell_type": "markdown",
   "id": "b79750d6",
   "metadata": {},
   "source": [
    "We will use **Recall** to compare our models as we would like to capitalize on all **positive opportunities** from a business point of view."
   ]
  },
  {
   "cell_type": "markdown",
   "id": "62e0b62d",
   "metadata": {},
   "source": [
    "###### Training Performance"
   ]
  },
  {
   "cell_type": "code",
   "execution_count": 45,
   "id": "20fa1142",
   "metadata": {},
   "outputs": [],
   "source": [
    "data = {\n",
    "    'Accuracy': scores['test_accuracy'],\n",
    "    'Precision': scores['test_precision'],\n",
    "    'Recall': scores['test_recall'],\n",
    "    'F1 Score': scores['test_f1']\n",
    "}\n",
    "\n",
    "category_labels = ['Fold ' + str(idx) for idx in range(1, len(data['Accuracy']) + 1)]"
   ]
  },
  {
   "cell_type": "code",
   "execution_count": 46,
   "id": "cc177496",
   "metadata": {},
   "outputs": [
    {
     "data": {
      "image/png": "[encoded data removed]",
      "text/plain": [
       "<Figure size 864x432 with 1 Axes>"
      ]
     },
     "metadata": {
      "needs_background": "light"
     },
     "output_type": "display_data"
    }
   ],
   "source": [
    "fig = plt.figure(figsize=(12, 6))\n",
    "barWidth = 0.25\n",
    "\n",
    "r = np.arange(1, len(data['Accuracy']) + 1)\n",
    "for metric, values in data.items():\n",
    "    plt.bar(r, values, width = barWidth, label = metric)\n",
    "    r = [x + barWidth for x in r]\n",
    "    \n",
    "plt.xlabel('Fold')\n",
    "plt.xticks([r + 2 * barWidth for r in range(1, len(data['Accuracy']) + 1)], category_labels)\n",
    "\n",
    "plt.legend()\n",
    "plt.show()"
   ]
  },
  {
   "cell_type": "markdown",
   "id": "81a721a0",
   "metadata": {},
   "source": [
    "**Findings**\n",
    "\n",
    "* The model is relatively stable across folds\n",
    "\n",
    "* The overall accuracy on the training set is very high. This is due to class imbalance as predicting everything as negative class would automatically result in high accuracy\n",
    "\n",
    "* Recall values are low for the classifier"
   ]
  },
  {
   "cell_type": "markdown",
   "id": "8c5945fe",
   "metadata": {},
   "source": [
    "###### Test Performance"
   ]
  },
  {
   "cell_type": "code",
   "execution_count": 47,
   "id": "e53dda9e",
   "metadata": {},
   "outputs": [],
   "source": [
    "predictions = logreg_model.predict(test_set_label_enc.drop(columns='y'))"
   ]
  },
  {
   "cell_type": "code",
   "execution_count": 48,
   "id": "a0eab5af",
   "metadata": {},
   "outputs": [],
   "source": [
    "test_accuracy = accuracy_score(test_set_label_enc['y'], predictions)\n",
    "test_precision = precision_score(test_set_label_enc['y'], predictions)\n",
    "test_recall = recall_score(test_set_label_enc['y'], predictions)\n",
    "test_f_score = f1_score(test_set_label_enc['y'], predictions)"
   ]
  },
  {
   "cell_type": "code",
   "execution_count": 49,
   "id": "816860b9",
   "metadata": {},
   "outputs": [],
   "source": [
    "data = {\n",
    "    'Accuracy': [np.mean(scores['test_accuracy']), test_accuracy],\n",
    "    'Precision': [np.mean(scores['test_precision']), test_precision],\n",
    "    'Recall': [np.mean(scores['test_recall']), test_recall],\n",
    "    'F1 Score': [np.mean(scores['test_f1']), test_f_score]\n",
    "}\n",
    "\n",
    "category_labels = ['Training', 'Test']"
   ]
  },
  {
   "cell_type": "code",
   "execution_count": 50,
   "id": "2c37168e",
   "metadata": {
    "scrolled": false
   },
   "outputs": [
    {
     "data": {
      "image/png": "[encoded data removed]",
      "text/plain": [
       "<Figure size 864x432 with 1 Axes>"
      ]
     },
     "metadata": {
      "needs_background": "light"
     },
     "output_type": "display_data"
    }
   ],
   "source": [
    "fig = plt.figure(figsize=(12, 6))\n",
    "barWidth = 0.25\n",
    "\n",
    "r = np.arange(1, 3)\n",
    "\n",
    "for metric, values in data.items():\n",
    "    plt.bar(r, values, width = barWidth, label = metric)\n",
    "    r = [x + barWidth for x in r]\n",
    "    \n",
    "plt.xlabel('Fold')\n",
    "plt.xticks([r + barWidth for r in range(1, len(data['Accuracy']) + 1)], category_labels)\n",
    "\n",
    "plt.legend()\n",
    "plt.show()"
   ]
  },
  {
   "cell_type": "markdown",
   "id": "f218b9da",
   "metadata": {},
   "source": [
    "**Findings**\n",
    "\n",
    "* Performance of the classifier on training and test set is almost equal. Hence, the classifier is not overfitting to the test set\n",
    "\n",
    "* Recall values for the classifier are low"
   ]
  },
  {
   "cell_type": "markdown",
   "id": "14b423bb",
   "metadata": {},
   "source": [
    "##### Model Interpretation"
   ]
  },
  {
   "cell_type": "markdown",
   "id": "80dc0359",
   "metadata": {},
   "source": [
    "###### Model Summary"
   ]
  },
  {
   "cell_type": "code",
   "execution_count": 51,
   "id": "f33b67a9",
   "metadata": {},
   "outputs": [
    {
     "data": {
      "text/html": [
       "<div>\n",
       "<style scoped>\n",
       "    .dataframe tbody tr th:only-of-type {\n",
       "        vertical-align: middle;\n",
       "    }\n",
       "\n",
       "    .dataframe tbody tr th {\n",
       "        vertical-align: top;\n",
       "    }\n",
       "\n",
       "    .dataframe thead th {\n",
       "        text-align: right;\n",
       "    }\n",
       "</style>\n",
       "<table border=\"1\" class=\"dataframe\">\n",
       "  <thead>\n",
       "    <tr style=\"text-align: right;\">\n",
       "      <th></th>\n",
       "      <th>Coefficients</th>\n",
       "      <th>Standard Errors</th>\n",
       "      <th>t values</th>\n",
       "      <th>Probabilities</th>\n",
       "    </tr>\n",
       "  </thead>\n",
       "  <tbody>\n",
       "    <tr>\n",
       "      <th>Constant</th>\n",
       "      <td>0.5464</td>\n",
       "      <td>0.043</td>\n",
       "      <td>12.783</td>\n",
       "      <td>0.000</td>\n",
       "    </tr>\n",
       "    <tr>\n",
       "      <th>age</th>\n",
       "      <td>-0.0476</td>\n",
       "      <td>0.012</td>\n",
       "      <td>-4.050</td>\n",
       "      <td>0.000</td>\n",
       "    </tr>\n",
       "    <tr>\n",
       "      <th>job</th>\n",
       "      <td>0.0076</td>\n",
       "      <td>0.000</td>\n",
       "      <td>15.295</td>\n",
       "      <td>0.000</td>\n",
       "    </tr>\n",
       "    <tr>\n",
       "      <th>marital</th>\n",
       "      <td>0.0481</td>\n",
       "      <td>0.003</td>\n",
       "      <td>15.159</td>\n",
       "      <td>0.000</td>\n",
       "    </tr>\n",
       "    <tr>\n",
       "      <th>education</th>\n",
       "      <td>0.0315</td>\n",
       "      <td>0.001</td>\n",
       "      <td>36.435</td>\n",
       "      <td>0.000</td>\n",
       "    </tr>\n",
       "    <tr>\n",
       "      <th>default</th>\n",
       "      <td>-0.2026</td>\n",
       "      <td>0.182</td>\n",
       "      <td>-1.114</td>\n",
       "      <td>0.265</td>\n",
       "    </tr>\n",
       "    <tr>\n",
       "      <th>housing</th>\n",
       "      <td>-0.0300</td>\n",
       "      <td>0.004</td>\n",
       "      <td>-8.571</td>\n",
       "      <td>0.000</td>\n",
       "    </tr>\n",
       "    <tr>\n",
       "      <th>loan</th>\n",
       "      <td>-0.0040</td>\n",
       "      <td>0.005</td>\n",
       "      <td>-0.828</td>\n",
       "      <td>0.407</td>\n",
       "    </tr>\n",
       "    <tr>\n",
       "      <th>contact</th>\n",
       "      <td>-0.8311</td>\n",
       "      <td>0.005</td>\n",
       "      <td>-151.680</td>\n",
       "      <td>0.000</td>\n",
       "    </tr>\n",
       "    <tr>\n",
       "      <th>month</th>\n",
       "      <td>-0.0928</td>\n",
       "      <td>0.001</td>\n",
       "      <td>-91.786</td>\n",
       "      <td>0.000</td>\n",
       "    </tr>\n",
       "    <tr>\n",
       "      <th>day_of_week</th>\n",
       "      <td>0.0572</td>\n",
       "      <td>0.001</td>\n",
       "      <td>45.845</td>\n",
       "      <td>0.000</td>\n",
       "    </tr>\n",
       "    <tr>\n",
       "      <th>campaign</th>\n",
       "      <td>-0.3004</td>\n",
       "      <td>0.007</td>\n",
       "      <td>-42.263</td>\n",
       "      <td>0.000</td>\n",
       "    </tr>\n",
       "    <tr>\n",
       "      <th>pdays</th>\n",
       "      <td>-1.0538</td>\n",
       "      <td>0.023</td>\n",
       "      <td>-46.168</td>\n",
       "      <td>0.000</td>\n",
       "    </tr>\n",
       "    <tr>\n",
       "      <th>previous</th>\n",
       "      <td>-0.5720</td>\n",
       "      <td>0.057</td>\n",
       "      <td>-10.036</td>\n",
       "      <td>0.000</td>\n",
       "    </tr>\n",
       "    <tr>\n",
       "      <th>poutcome</th>\n",
       "      <td>0.4335</td>\n",
       "      <td>0.010</td>\n",
       "      <td>42.453</td>\n",
       "      <td>0.000</td>\n",
       "    </tr>\n",
       "    <tr>\n",
       "      <th>emp.var.rate</th>\n",
       "      <td>-4.1135</td>\n",
       "      <td>0.035</td>\n",
       "      <td>-118.087</td>\n",
       "      <td>0.000</td>\n",
       "    </tr>\n",
       "    <tr>\n",
       "      <th>cons.price.idx</th>\n",
       "      <td>2.2679</td>\n",
       "      <td>0.024</td>\n",
       "      <td>95.279</td>\n",
       "      <td>0.000</td>\n",
       "    </tr>\n",
       "    <tr>\n",
       "      <th>cons.conf.idx</th>\n",
       "      <td>0.5220</td>\n",
       "      <td>0.017</td>\n",
       "      <td>30.967</td>\n",
       "      <td>0.000</td>\n",
       "    </tr>\n",
       "    <tr>\n",
       "      <th>euribor3m</th>\n",
       "      <td>2.3847</td>\n",
       "      <td>0.043</td>\n",
       "      <td>55.324</td>\n",
       "      <td>0.000</td>\n",
       "    </tr>\n",
       "    <tr>\n",
       "      <th>nr.employed</th>\n",
       "      <td>-2.5705</td>\n",
       "      <td>0.041</td>\n",
       "      <td>-61.944</td>\n",
       "      <td>0.000</td>\n",
       "    </tr>\n",
       "  </tbody>\n",
       "</table>\n",
       "</div>"
      ],
      "text/plain": [
       "                Coefficients  Standard Errors  t values  Probabilities\n",
       "Constant              0.5464            0.043    12.783          0.000\n",
       "age                  -0.0476            0.012    -4.050          0.000\n",
       "job                   0.0076            0.000    15.295          0.000\n",
       "marital               0.0481            0.003    15.159          0.000\n",
       "education             0.0315            0.001    36.435          0.000\n",
       "default              -0.2026            0.182    -1.114          0.265\n",
       "housing              -0.0300            0.004    -8.571          0.000\n",
       "loan                 -0.0040            0.005    -0.828          0.407\n",
       "contact              -0.8311            0.005  -151.680          0.000\n",
       "month                -0.0928            0.001   -91.786          0.000\n",
       "day_of_week           0.0572            0.001    45.845          0.000\n",
       "campaign             -0.3004            0.007   -42.263          0.000\n",
       "pdays                -1.0538            0.023   -46.168          0.000\n",
       "previous             -0.5720            0.057   -10.036          0.000\n",
       "poutcome              0.4335            0.010    42.453          0.000\n",
       "emp.var.rate         -4.1135            0.035  -118.087          0.000\n",
       "cons.price.idx        2.2679            0.024    95.279          0.000\n",
       "cons.conf.idx         0.5220            0.017    30.967          0.000\n",
       "euribor3m             2.3847            0.043    55.324          0.000\n",
       "nr.employed          -2.5705            0.041   -61.944          0.000"
      ]
     },
     "execution_count": 51,
     "metadata": {},
     "output_type": "execute_result"
    }
   ],
   "source": [
    "model_summary = get_model_summary(logreg_model, train_set_label_enc.drop(columns=['y']), train_set_label_enc['y'])\n",
    "model_summary"
   ]
  },
  {
   "cell_type": "markdown",
   "id": "993a9716",
   "metadata": {},
   "source": [
    "**Findings**\n",
    "\n",
    "* Apart from **default** aand **loan**, all other features are significant at 95% confidence level\n",
    "\n",
    "* **emp.var.rate**, **eruibor3m**, **nr.employed** and **cons.price.idx** are very important features"
   ]
  },
  {
   "cell_type": "markdown",
   "id": "efbed8a7",
   "metadata": {},
   "source": [
    "###### Variable Importance"
   ]
  },
  {
   "cell_type": "code",
   "execution_count": 52,
   "id": "c514babc",
   "metadata": {},
   "outputs": [
    {
     "data": {
      "image/png": "[encoded data removed]",
      "text/plain": [
       "<Figure size 1152x576 with 1 Axes>"
      ]
     },
     "metadata": {
      "needs_background": "light"
     },
     "output_type": "display_data"
    }
   ],
   "source": [
    "fig = plt.figure(figsize=(16, 8))\n",
    "barWidth = 0.5\n",
    "\n",
    "r = np.arange(1, len(model_summary) + 1)\n",
    "\n",
    "plt.bar(r, model_summary['Coefficients'], width = barWidth, label = model_summary.index)\n",
    "\n",
    "plt.xlabel('Variable')\n",
    "plt.xticks([r for r in range(1, len(model_summary) + 1)], model_summary.index, rotation=90)\n",
    "\n",
    "plt.show()"
   ]
  },
  {
   "cell_type": "markdown",
   "id": "d86d9927",
   "metadata": {},
   "source": [
    "###### Shapley Values"
   ]
  },
  {
   "cell_type": "markdown",
   "id": "2e67498c",
   "metadata": {},
   "source": [
    "It is the average of the marginal contributions across all permutations of variables and is a model agnostic approach towards model interpretibilty."
   ]
  },
  {
   "cell_type": "code",
   "execution_count": 53,
   "id": "79948632",
   "metadata": {},
   "outputs": [],
   "source": [
    "explainer = shap.Explainer(logreg_model, train_set_label_enc.drop(columns=['y']))"
   ]
  },
  {
   "cell_type": "code",
   "execution_count": 54,
   "id": "bea6ca12",
   "metadata": {},
   "outputs": [],
   "source": [
    "shap_values = explainer(test_set_label_enc.drop(columns=['y']))"
   ]
  },
  {
   "cell_type": "code",
   "execution_count": 55,
   "id": "15e7e0c9",
   "metadata": {
    "scrolled": false
   },
   "outputs": [
    {
     "data": {
      "image/png": "[encoded data removed]",
      "text/plain": [
       "<Figure size 576x655.2 with 2 Axes>"
      ]
     },
     "metadata": {
      "needs_background": "light"
     },
     "output_type": "display_data"
    }
   ],
   "source": [
    "shap.summary_plot(shap_values, test_set_label_enc.drop(columns=['y']))"
   ]
  },
  {
   "cell_type": "markdown",
   "id": "e388c595",
   "metadata": {},
   "source": [
    "**Findings**\n",
    "\n",
    "* **emp.var.rate**, **eruibor3m**, **nr.employed** and **cons.price.idx** are very important features"
   ]
  },
  {
   "cell_type": "markdown",
   "id": "6cf16496",
   "metadata": {},
   "source": [
    "#### Experiment 3 - Logistic Regression with Feature Selection"
   ]
  },
  {
   "cell_type": "markdown",
   "id": "76114e4f",
   "metadata": {},
   "source": [
    "##### Details"
   ]
  },
  {
   "cell_type": "markdown",
   "id": "7b18b43f",
   "metadata": {},
   "source": [
    "In this experiment, we will run a Logistic Regression classifier after removing variables having very high correlation."
   ]
  },
  {
   "cell_type": "markdown",
   "id": "ae29744e",
   "metadata": {},
   "source": [
    "##### Feature Selection"
   ]
  },
  {
   "cell_type": "markdown",
   "id": "46fbee12",
   "metadata": {},
   "source": [
    "We are dropping the following features:\n",
    "\n",
    "* **poutcome** as it is highly correlated with both **pdays** and **previous**\n",
    "\n",
    "* **euribor3m** and **nr.employed** as they are highly correlated to each other and to **emp.var.rate**\n",
    "\n",
    "* **default** and **loan** as they have come up as unimportant variables in the previous experiments"
   ]
  },
  {
   "cell_type": "code",
   "execution_count": 56,
   "id": "decd18c1",
   "metadata": {},
   "outputs": [],
   "source": [
    "train_set_label_enc_filtered = train_set_label_enc.drop(columns=['poutcome', 'euribor3m', 'nr.employed', 'default', 'loan'])\n",
    "test_set_label_enc_filtered = test_set_label_enc.drop(columns=['poutcome', 'euribor3m', 'nr.employed', 'default', 'loan'])"
   ]
  },
  {
   "cell_type": "markdown",
   "id": "7bbf74ab",
   "metadata": {},
   "source": [
    "##### Modeling"
   ]
  },
  {
   "cell_type": "markdown",
   "id": "81b5f669",
   "metadata": {},
   "source": [
    "###### Logistic Regression "
   ]
  },
  {
   "cell_type": "code",
   "execution_count": 57,
   "id": "7faa585a",
   "metadata": {},
   "outputs": [],
   "source": [
    "logreg_model = LogisticRegression()\n",
    "\n",
    "scores = cross_validate(logreg_model, \n",
    "                         train_set_label_enc_filtered.drop(columns=['y']), \n",
    "                         train_set_label_enc_filtered['y'], \n",
    "                         cv=10, \n",
    "                         scoring=['accuracy', 'precision', 'recall', 'f1'])"
   ]
  },
  {
   "cell_type": "code",
   "execution_count": 58,
   "id": "c8bb50ad",
   "metadata": {},
   "outputs": [
    {
     "data": {
      "text/plain": [
       "LogisticRegression(C=1.0, class_weight=None, dual=False, fit_intercept=True,\n",
       "                   intercept_scaling=1, l1_ratio=None, max_iter=100,\n",
       "                   multi_class='auto', n_jobs=None, penalty='l2',\n",
       "                   random_state=None, solver='lbfgs', tol=0.0001, verbose=0,\n",
       "                   warm_start=False)"
      ]
     },
     "execution_count": 58,
     "metadata": {},
     "output_type": "execute_result"
    }
   ],
   "source": [
    "logreg_model = LogisticRegression()\n",
    "logreg_model.fit(train_set_label_enc_filtered.drop(columns=['y']), train_set_label_enc_filtered['y'])"
   ]
  },
  {
   "cell_type": "markdown",
   "id": "7fb612b3",
   "metadata": {},
   "source": [
    "##### Model Evaluation"
   ]
  },
  {
   "cell_type": "markdown",
   "id": "910a6f5e",
   "metadata": {},
   "source": [
    "We will look at the following metrics to evaluate our model's performance:\n",
    "\n",
    "* Accuracy: Fraction of correct predictions by the model\n",
    "\n",
    "* Precision: Fraction of relevant instances among the retrieved instances (positive predictive value)\n",
    "\n",
    "* **Recall:** Fraction of retrieved relevant instances among all relevant instances (sensitivity)\n",
    "\n",
    "* F1 Score: Harmonic mean of precision and recall "
   ]
  },
  {
   "cell_type": "markdown",
   "id": "96241e45",
   "metadata": {},
   "source": [
    "We will use **Recall** to compare our models as we would like to capitalize on all **positive opportunities** from a business point of view."
   ]
  },
  {
   "cell_type": "markdown",
   "id": "9589578a",
   "metadata": {},
   "source": [
    "###### Training Performance"
   ]
  },
  {
   "cell_type": "code",
   "execution_count": 59,
   "id": "b9423808",
   "metadata": {},
   "outputs": [],
   "source": [
    "data = {\n",
    "    'Accuracy': scores['test_accuracy'],\n",
    "    'Precision': scores['test_precision'],\n",
    "    'Recall': scores['test_recall'],\n",
    "    'F1 Score': scores['test_f1']\n",
    "}\n",
    "\n",
    "category_labels = ['Fold ' + str(idx) for idx in range(1, len(data['Accuracy']) + 1)]"
   ]
  },
  {
   "cell_type": "code",
   "execution_count": 60,
   "id": "5bf18094",
   "metadata": {},
   "outputs": [
    {
     "data": {
      "image/png": "[encoded data removed]",
      "text/plain": [
       "<Figure size 864x432 with 1 Axes>"
      ]
     },
     "metadata": {
      "needs_background": "light"
     },
     "output_type": "display_data"
    }
   ],
   "source": [
    "fig = plt.figure(figsize=(12, 6))\n",
    "barWidth = 0.25\n",
    "\n",
    "r = np.arange(1, len(data['Accuracy']) + 1)\n",
    "for metric, values in data.items():\n",
    "    plt.bar(r, values, width = barWidth, label = metric)\n",
    "    r = [x + barWidth for x in r]\n",
    "    \n",
    "plt.xlabel('Fold')\n",
    "plt.xticks([r + 2 * barWidth for r in range(1, len(data['Accuracy']) + 1)], category_labels)\n",
    "\n",
    "plt.legend()\n",
    "plt.show()"
   ]
  },
  {
   "cell_type": "markdown",
   "id": "8741ef05",
   "metadata": {},
   "source": [
    "**Findings**\n",
    "\n",
    "* The overall accuracy on the training set is very high. This is due to class imbalance as predicting everything as negative class would automatically result in high accuracy\n",
    "\n",
    "* Recall values are low for the classifier"
   ]
  },
  {
   "cell_type": "markdown",
   "id": "9a62d090",
   "metadata": {},
   "source": [
    "###### Test Performance"
   ]
  },
  {
   "cell_type": "code",
   "execution_count": 61,
   "id": "adcd0c11",
   "metadata": {},
   "outputs": [],
   "source": [
    "predictions = logreg_model.predict(test_set_label_enc_filtered.drop(columns='y'))"
   ]
  },
  {
   "cell_type": "code",
   "execution_count": 62,
   "id": "5806e48d",
   "metadata": {},
   "outputs": [],
   "source": [
    "test_accuracy = accuracy_score(test_set_label_enc['y'], predictions)\n",
    "test_precision = precision_score(test_set_label_enc['y'], predictions)\n",
    "test_recall = recall_score(test_set_label_enc['y'], predictions)\n",
    "test_f_score = f1_score(test_set_label_enc['y'], predictions)"
   ]
  },
  {
   "cell_type": "code",
   "execution_count": 63,
   "id": "61161f7b",
   "metadata": {},
   "outputs": [],
   "source": [
    "data = {\n",
    "    'Accuracy': [np.mean(scores['test_accuracy']), test_accuracy],\n",
    "    'Precision': [np.mean(scores['test_precision']), test_precision],\n",
    "    'Recall': [np.mean(scores['test_recall']), test_recall],\n",
    "    'F1 Score': [np.mean(scores['test_f1']), test_f_score]\n",
    "}\n",
    "\n",
    "category_labels = ['Training', 'Test']"
   ]
  },
  {
   "cell_type": "code",
   "execution_count": 64,
   "id": "95eb9cd1",
   "metadata": {
    "scrolled": false
   },
   "outputs": [
    {
     "data": {
      "image/png": "[encoded data removed]",
      "text/plain": [
       "<Figure size 864x432 with 1 Axes>"
      ]
     },
     "metadata": {
      "needs_background": "light"
     },
     "output_type": "display_data"
    }
   ],
   "source": [
    "fig = plt.figure(figsize=(12, 6))\n",
    "barWidth = 0.25\n",
    "\n",
    "r = np.arange(1, 3)\n",
    "\n",
    "for metric, values in data.items():\n",
    "    plt.bar(r, values, width = barWidth, label = metric)\n",
    "    r = [x + barWidth for x in r]\n",
    "    \n",
    "plt.xlabel('Fold')\n",
    "plt.xticks([r + barWidth for r in range(1, len(data['Accuracy']) + 1)], category_labels)\n",
    "\n",
    "plt.legend()\n",
    "plt.show()"
   ]
  },
  {
   "cell_type": "markdown",
   "id": "93d264d9",
   "metadata": {},
   "source": [
    "**Findings**\n",
    "\n",
    "* Performance of the classifier on training and test set is almost equal. Hence, the classifier is not overfitting to the test set\n",
    "\n",
    "* Recall values for the classifier are low"
   ]
  },
  {
   "cell_type": "markdown",
   "id": "e04c11ad",
   "metadata": {},
   "source": [
    "##### Model Interpretation"
   ]
  },
  {
   "cell_type": "markdown",
   "id": "43825ef4",
   "metadata": {},
   "source": [
    "###### Model Summary"
   ]
  },
  {
   "cell_type": "code",
   "execution_count": 65,
   "id": "8621472a",
   "metadata": {},
   "outputs": [
    {
     "data": {
      "text/html": [
       "<div>\n",
       "<style scoped>\n",
       "    .dataframe tbody tr th:only-of-type {\n",
       "        vertical-align: middle;\n",
       "    }\n",
       "\n",
       "    .dataframe tbody tr th {\n",
       "        vertical-align: top;\n",
       "    }\n",
       "\n",
       "    .dataframe thead th {\n",
       "        text-align: right;\n",
       "    }\n",
       "</style>\n",
       "<table border=\"1\" class=\"dataframe\">\n",
       "  <thead>\n",
       "    <tr style=\"text-align: right;\">\n",
       "      <th></th>\n",
       "      <th>Coefficients</th>\n",
       "      <th>Standard Errors</th>\n",
       "      <th>t values</th>\n",
       "      <th>Probabilities</th>\n",
       "    </tr>\n",
       "  </thead>\n",
       "  <tbody>\n",
       "    <tr>\n",
       "      <th>Constant</th>\n",
       "      <td>-0.1665</td>\n",
       "      <td>0.018</td>\n",
       "      <td>-9.385</td>\n",
       "      <td>0.0</td>\n",
       "    </tr>\n",
       "    <tr>\n",
       "      <th>age</th>\n",
       "      <td>0.1436</td>\n",
       "      <td>0.012</td>\n",
       "      <td>12.212</td>\n",
       "      <td>0.0</td>\n",
       "    </tr>\n",
       "    <tr>\n",
       "      <th>job</th>\n",
       "      <td>0.0089</td>\n",
       "      <td>0.000</td>\n",
       "      <td>18.051</td>\n",
       "      <td>0.0</td>\n",
       "    </tr>\n",
       "    <tr>\n",
       "      <th>marital</th>\n",
       "      <td>0.0886</td>\n",
       "      <td>0.003</td>\n",
       "      <td>27.868</td>\n",
       "      <td>0.0</td>\n",
       "    </tr>\n",
       "    <tr>\n",
       "      <th>education</th>\n",
       "      <td>0.0387</td>\n",
       "      <td>0.001</td>\n",
       "      <td>44.859</td>\n",
       "      <td>0.0</td>\n",
       "    </tr>\n",
       "    <tr>\n",
       "      <th>housing</th>\n",
       "      <td>-0.0182</td>\n",
       "      <td>0.004</td>\n",
       "      <td>-5.193</td>\n",
       "      <td>0.0</td>\n",
       "    </tr>\n",
       "    <tr>\n",
       "      <th>contact</th>\n",
       "      <td>-0.9068</td>\n",
       "      <td>0.005</td>\n",
       "      <td>-174.671</td>\n",
       "      <td>0.0</td>\n",
       "    </tr>\n",
       "    <tr>\n",
       "      <th>month</th>\n",
       "      <td>-0.0622</td>\n",
       "      <td>0.001</td>\n",
       "      <td>-74.723</td>\n",
       "      <td>0.0</td>\n",
       "    </tr>\n",
       "    <tr>\n",
       "      <th>day_of_week</th>\n",
       "      <td>0.0602</td>\n",
       "      <td>0.001</td>\n",
       "      <td>48.173</td>\n",
       "      <td>0.0</td>\n",
       "    </tr>\n",
       "    <tr>\n",
       "      <th>campaign</th>\n",
       "      <td>-0.3329</td>\n",
       "      <td>0.007</td>\n",
       "      <td>-46.945</td>\n",
       "      <td>0.0</td>\n",
       "    </tr>\n",
       "    <tr>\n",
       "      <th>pdays</th>\n",
       "      <td>-1.7228</td>\n",
       "      <td>0.012</td>\n",
       "      <td>-145.260</td>\n",
       "      <td>0.0</td>\n",
       "    </tr>\n",
       "    <tr>\n",
       "      <th>previous</th>\n",
       "      <td>-1.8297</td>\n",
       "      <td>0.033</td>\n",
       "      <td>-55.661</td>\n",
       "      <td>0.0</td>\n",
       "    </tr>\n",
       "    <tr>\n",
       "      <th>emp.var.rate</th>\n",
       "      <td>-3.7640</td>\n",
       "      <td>0.010</td>\n",
       "      <td>-363.275</td>\n",
       "      <td>0.0</td>\n",
       "    </tr>\n",
       "    <tr>\n",
       "      <th>cons.price.idx</th>\n",
       "      <td>3.3741</td>\n",
       "      <td>0.016</td>\n",
       "      <td>216.319</td>\n",
       "      <td>0.0</td>\n",
       "    </tr>\n",
       "    <tr>\n",
       "      <th>cons.conf.idx</th>\n",
       "      <td>1.2518</td>\n",
       "      <td>0.010</td>\n",
       "      <td>122.675</td>\n",
       "      <td>0.0</td>\n",
       "    </tr>\n",
       "  </tbody>\n",
       "</table>\n",
       "</div>"
      ],
      "text/plain": [
       "                Coefficients  Standard Errors  t values  Probabilities\n",
       "Constant             -0.1665            0.018    -9.385            0.0\n",
       "age                   0.1436            0.012    12.212            0.0\n",
       "job                   0.0089            0.000    18.051            0.0\n",
       "marital               0.0886            0.003    27.868            0.0\n",
       "education             0.0387            0.001    44.859            0.0\n",
       "housing              -0.0182            0.004    -5.193            0.0\n",
       "contact              -0.9068            0.005  -174.671            0.0\n",
       "month                -0.0622            0.001   -74.723            0.0\n",
       "day_of_week           0.0602            0.001    48.173            0.0\n",
       "campaign             -0.3329            0.007   -46.945            0.0\n",
       "pdays                -1.7228            0.012  -145.260            0.0\n",
       "previous             -1.8297            0.033   -55.661            0.0\n",
       "emp.var.rate         -3.7640            0.010  -363.275            0.0\n",
       "cons.price.idx        3.3741            0.016   216.319            0.0\n",
       "cons.conf.idx         1.2518            0.010   122.675            0.0"
      ]
     },
     "execution_count": 65,
     "metadata": {},
     "output_type": "execute_result"
    }
   ],
   "source": [
    "model_summary = get_model_summary(logreg_model, train_set_label_enc_filtered.drop(columns=['y']), train_set_label_enc_filtered['y'])\n",
    "model_summary"
   ]
  },
  {
   "cell_type": "markdown",
   "id": "3c9c1a30",
   "metadata": {},
   "source": [
    "**Findings**\n",
    "\n",
    "* All features are significant at 95% confidence level\n",
    "\n",
    "* **emp.var.rate** and **cons.price.idx** are very important features"
   ]
  },
  {
   "cell_type": "markdown",
   "id": "e0ff032f",
   "metadata": {},
   "source": [
    "###### Variable Importance"
   ]
  },
  {
   "cell_type": "code",
   "execution_count": 66,
   "id": "519fdf4c",
   "metadata": {},
   "outputs": [
    {
     "data": {
      "image/png": "[encoded data removed]",
      "text/plain": [
       "<Figure size 1152x576 with 1 Axes>"
      ]
     },
     "metadata": {
      "needs_background": "light"
     },
     "output_type": "display_data"
    }
   ],
   "source": [
    "fig = plt.figure(figsize=(16, 8))\n",
    "barWidth = 0.5\n",
    "\n",
    "r = np.arange(1, len(model_summary) + 1)\n",
    "\n",
    "plt.bar(r, model_summary['Coefficients'], width = barWidth, label = model_summary.index)\n",
    "\n",
    "plt.xlabel('Variable')\n",
    "plt.xticks([r for r in range(1, len(model_summary) + 1)], model_summary.index, rotation=90)\n",
    "\n",
    "plt.show()"
   ]
  },
  {
   "cell_type": "markdown",
   "id": "9b096d58",
   "metadata": {},
   "source": [
    "###### Shapley Values"
   ]
  },
  {
   "cell_type": "markdown",
   "id": "e9546415",
   "metadata": {},
   "source": [
    "It is the average of the marginal contributions across all permutations of variables and is a model agnostic approach towards model interpretibilty."
   ]
  },
  {
   "cell_type": "code",
   "execution_count": 67,
   "id": "45e1c92f",
   "metadata": {},
   "outputs": [],
   "source": [
    "explainer = shap.Explainer(logreg_model, train_set_label_enc_filtered.drop(columns=['y']))"
   ]
  },
  {
   "cell_type": "code",
   "execution_count": 68,
   "id": "cedaf053",
   "metadata": {},
   "outputs": [],
   "source": [
    "shap_values = explainer(test_set_label_enc_filtered.drop(columns=['y']))"
   ]
  },
  {
   "cell_type": "code",
   "execution_count": 69,
   "id": "cbbf812e",
   "metadata": {
    "scrolled": false
   },
   "outputs": [
    {
     "data": {
      "image/png": "[encoded data removed]",
      "text/plain": [
       "<Figure size 576x511.2 with 2 Axes>"
      ]
     },
     "metadata": {
      "needs_background": "light"
     },
     "output_type": "display_data"
    }
   ],
   "source": [
    "shap.summary_plot(shap_values, test_set_label_enc_filtered.drop(columns=['y']))"
   ]
  },
  {
   "cell_type": "markdown",
   "id": "99f8823b",
   "metadata": {},
   "source": [
    "**Findings**\n",
    "\n",
    "* **emp.var.rate** and **cons.price.idx** are very important features"
   ]
  },
  {
   "cell_type": "markdown",
   "id": "f83916ce",
   "metadata": {},
   "source": [
    "#### Experiment 4 -Decision Tree Classifier"
   ]
  },
  {
   "cell_type": "markdown",
   "id": "37fd62a1",
   "metadata": {},
   "source": [
    "##### Details"
   ]
  },
  {
   "cell_type": "markdown",
   "id": "9bcf5814",
   "metadata": {},
   "source": [
    "In this experiment, we will run a Decision Tree classifier with default parameters."
   ]
  },
  {
   "cell_type": "markdown",
   "id": "7b14924e",
   "metadata": {},
   "source": [
    "##### Modeling"
   ]
  },
  {
   "cell_type": "markdown",
   "id": "84d4c866",
   "metadata": {},
   "source": [
    "###### Logistic Regression "
   ]
  },
  {
   "cell_type": "code",
   "execution_count": 70,
   "id": "a45b107f",
   "metadata": {},
   "outputs": [],
   "source": [
    "dtree_model = DecisionTreeClassifier()\n",
    "\n",
    "scores = cross_validate(dtree_model, \n",
    "                         train_set_label_enc.drop(columns=['y']), \n",
    "                         train_set_label_enc['y'], \n",
    "                         cv=10, \n",
    "                         scoring=['accuracy', 'precision', 'recall', 'f1'])"
   ]
  },
  {
   "cell_type": "code",
   "execution_count": 71,
   "id": "f5bfe35e",
   "metadata": {},
   "outputs": [
    {
     "data": {
      "text/plain": [
       "DecisionTreeClassifier(ccp_alpha=0.0, class_weight=None, criterion='gini',\n",
       "                       max_depth=None, max_features=None, max_leaf_nodes=None,\n",
       "                       min_impurity_decrease=0.0, min_impurity_split=None,\n",
       "                       min_samples_leaf=1, min_samples_split=2,\n",
       "                       min_weight_fraction_leaf=0.0, presort='deprecated',\n",
       "                       random_state=None, splitter='best')"
      ]
     },
     "execution_count": 71,
     "metadata": {},
     "output_type": "execute_result"
    }
   ],
   "source": [
    "dtree_model = DecisionTreeClassifier()\n",
    "dtree_model.fit(train_set_label_enc.drop(columns=['y']), train_set_label_enc['y'])"
   ]
  },
  {
   "cell_type": "markdown",
   "id": "12ed556a",
   "metadata": {},
   "source": [
    "##### Model Evaluation"
   ]
  },
  {
   "cell_type": "markdown",
   "id": "1d3d8f9a",
   "metadata": {},
   "source": [
    "We will look at the following metrics to evaluate our model's performance:\n",
    "\n",
    "* Accuracy: Fraction of correct predictions by the model\n",
    "\n",
    "* Precision: Fraction of relevant instances among the retrieved instances (positive predictive value)\n",
    "\n",
    "* **Recall:** Fraction of retrieved relevant instances among all relevant instances (sensitivity)\n",
    "\n",
    "* F1 Score: Harmonic mean of precision and recall "
   ]
  },
  {
   "cell_type": "markdown",
   "id": "6afbcf4c",
   "metadata": {},
   "source": [
    "We will use **Recall** to compare our models as we would like to capitalize on all **positive opportunities** from a business point of view."
   ]
  },
  {
   "cell_type": "markdown",
   "id": "d046755b",
   "metadata": {},
   "source": [
    "###### Training Performance"
   ]
  },
  {
   "cell_type": "code",
   "execution_count": 72,
   "id": "22e7fa6d",
   "metadata": {},
   "outputs": [],
   "source": [
    "data = {\n",
    "    'Accuracy': scores['test_accuracy'],\n",
    "    'Precision': scores['test_precision'],\n",
    "    'Recall': scores['test_recall'],\n",
    "    'F1 Score': scores['test_f1']\n",
    "}\n",
    "\n",
    "category_labels = ['Fold ' + str(idx) for idx in range(1, len(data['Accuracy']) + 1)]"
   ]
  },
  {
   "cell_type": "code",
   "execution_count": 73,
   "id": "7fdfc09b",
   "metadata": {},
   "outputs": [
    {
     "data": {
      "image/png": "[encoded data removed]",
      "text/plain": [
       "<Figure size 864x432 with 1 Axes>"
      ]
     },
     "metadata": {
      "needs_background": "light"
     },
     "output_type": "display_data"
    }
   ],
   "source": [
    "fig = plt.figure(figsize=(12, 6))\n",
    "barWidth = 0.25\n",
    "\n",
    "r = np.arange(1, len(data['Accuracy']) + 1)\n",
    "for metric, values in data.items():\n",
    "    plt.bar(r, values, width = barWidth, label = metric)\n",
    "    r = [x + barWidth for x in r]\n",
    "    \n",
    "plt.xlabel('Fold')\n",
    "plt.xticks([r + 2 * barWidth for r in range(1, len(data['Accuracy']) + 1)], category_labels)\n",
    "\n",
    "plt.legend()\n",
    "plt.show()"
   ]
  },
  {
   "cell_type": "markdown",
   "id": "df59560b",
   "metadata": {},
   "source": [
    "**Findings**\n",
    "\n",
    "* We see a **significant** improvement in recall over previous experiments\n",
    "\n",
    "* The overall accuracy on the training set is very high. This is due to class imbalance as predicting everything as negative class would automatically result in high accuracy"
   ]
  },
  {
   "cell_type": "markdown",
   "id": "72e4be8d",
   "metadata": {},
   "source": [
    "###### Test Performance"
   ]
  },
  {
   "cell_type": "code",
   "execution_count": 74,
   "id": "100cc370",
   "metadata": {},
   "outputs": [],
   "source": [
    "predictions = dtree_model.predict(test_set_label_enc.drop(columns='y'))"
   ]
  },
  {
   "cell_type": "code",
   "execution_count": 75,
   "id": "80060a85",
   "metadata": {},
   "outputs": [],
   "source": [
    "test_accuracy = accuracy_score(test_set_label_enc['y'], predictions)\n",
    "test_precision = precision_score(test_set_label_enc['y'], predictions)\n",
    "test_recall = recall_score(test_set_label_enc['y'], predictions)\n",
    "test_f_score = f1_score(test_set_label_enc['y'], predictions)"
   ]
  },
  {
   "cell_type": "code",
   "execution_count": 76,
   "id": "038f8ef0",
   "metadata": {},
   "outputs": [],
   "source": [
    "data = {\n",
    "    'Accuracy': [np.mean(scores['test_accuracy']), test_accuracy],\n",
    "    'Precision': [np.mean(scores['test_precision']), test_precision],\n",
    "    'Recall': [np.mean(scores['test_recall']), test_recall],\n",
    "    'F1 Score': [np.mean(scores['test_f1']), test_f_score]\n",
    "}\n",
    "\n",
    "category_labels = ['Training', 'Test']"
   ]
  },
  {
   "cell_type": "code",
   "execution_count": 77,
   "id": "eeda0f00",
   "metadata": {
    "scrolled": false
   },
   "outputs": [
    {
     "data": {
      "image/png": "[encoded data removed]",
      "text/plain": [
       "<Figure size 864x432 with 1 Axes>"
      ]
     },
     "metadata": {
      "needs_background": "light"
     },
     "output_type": "display_data"
    }
   ],
   "source": [
    "fig = plt.figure(figsize=(12, 6))\n",
    "barWidth = 0.25\n",
    "\n",
    "r = np.arange(1, 3)\n",
    "\n",
    "for metric, values in data.items():\n",
    "    plt.bar(r, values, width = barWidth, label = metric)\n",
    "    r = [x + barWidth for x in r]\n",
    "    \n",
    "plt.xlabel('Fold')\n",
    "plt.xticks([r + barWidth for r in range(1, len(data['Accuracy']) + 1)], category_labels)\n",
    "\n",
    "plt.legend()\n",
    "plt.show()"
   ]
  },
  {
   "cell_type": "markdown",
   "id": "6b5957a1",
   "metadata": {},
   "source": [
    "**Findings**\n",
    "\n",
    "* Performance of the classifier on training and test set is almost equal. Hence, the classifier is not overfitting to the test set\n",
    "\n",
    "* Recall values for the classifier are better than previous experiments, but are still low"
   ]
  },
  {
   "cell_type": "markdown",
   "id": "19578718",
   "metadata": {},
   "source": [
    "##### Model Interpretation"
   ]
  },
  {
   "cell_type": "markdown",
   "id": "3af5c8bd",
   "metadata": {},
   "source": [
    "###### Variable Importance"
   ]
  },
  {
   "cell_type": "code",
   "execution_count": 78,
   "id": "e31a109c",
   "metadata": {},
   "outputs": [
    {
     "data": {
      "image/png": "[encoded data removed]",
      "text/plain": [
       "<Figure size 1152x576 with 1 Axes>"
      ]
     },
     "metadata": {
      "needs_background": "light"
     },
     "output_type": "display_data"
    }
   ],
   "source": [
    "fig = plt.figure(figsize=(16, 8))\n",
    "barWidth = 0.5\n",
    "\n",
    "r = np.arange(1, len(dtree_model.feature_importances_) + 1)\n",
    "\n",
    "plt.bar(r, dtree_model.feature_importances_, width = barWidth, label = train_set_label_enc.columns[:-1])\n",
    "\n",
    "plt.xlabel('Variable')\n",
    "plt.xticks([r for r in range(1, len(dtree_model.feature_importances_) + 1)], train_set_label_enc.columns[:-1], rotation=90)\n",
    "\n",
    "plt.show()"
   ]
  },
  {
   "cell_type": "markdown",
   "id": "b5aa6fce",
   "metadata": {},
   "source": [
    "**Findings**\n",
    "\n",
    "* **age** and **nr.employed** are very important features"
   ]
  },
  {
   "cell_type": "markdown",
   "id": "dd948b2b",
   "metadata": {},
   "source": [
    "## Conclusion"
   ]
  },
  {
   "cell_type": "markdown",
   "id": "7f27ea7c",
   "metadata": {},
   "source": [
    "* Analysis of dataset reveals\n",
    "\n",
    "    * 70% of the clients are new as there is no data available for previous contacts for these clients, as seen in the **pdays**, **poutcome** and **previous** variables.\n",
    "    \n",
    "    * Highest number of clients have a university degree. Also, majority of the clients belong to the working category (between ages 20 and 60).\n",
    "    \n",
    "    * There is a high correlation between **poutcome**, **previous** and **pdays** as all these variables represent information from previous contact with the client. **euribor3m**, **nr.employed** and **emp.var.rate** also have very high correlation with one another.\n",
    "    \n",
    "    * Unknown values are present only in CLIENT DATA categorical variables\n",
    "    \n",
    "* **Recall** was selected as the metric to compare predictive models as improving recall would allow us to capitalize on all positive opportunities\n",
    "    \n",
    "* First 3 experiments with linear model (Logistic Regression) revealed\n",
    "\n",
    "    * The model has a low variance (based on K-Fold CV) and low bias (since training and test performance are equal)\n",
    "    \n",
    "    * The model is not complex enough to represent the complete hypothesis space as the model has a very **low recall value (20%)**\n",
    "    \n",
    "    * Even with **hyper-parameter tuning** and **feature selection based on correlation**, the model performance did not improve\n",
    "    \n",
    "* Last experiment with a non-linear model (Decision Tree Classifier) revealed\n",
    "\n",
    "    * The model has a low variance (based on K-Fold CV) and low bias (since training and test performance are equal)\n",
    "    \n",
    "    * Using a non-linear model **improved recall value (40%)** when compared against linear Logistic Regression model\n",
    "    \n",
    "    * **The relation between predictor and response variables is non-linear**"
   ]
  },
  {
   "cell_type": "markdown",
   "id": "816a5a96",
   "metadata": {},
   "source": [
    "## Next Steps"
   ]
  },
  {
   "cell_type": "markdown",
   "id": "76f98081",
   "metadata": {},
   "source": [
    "* Feature selection based on ensemble voting using multiple feature selection techniques\n",
    "\n",
    "* Hyper-parameter tuning Decision Tree model\n",
    "\n",
    "* Adding more complex non-linear models (RandomForest, XGBoost, Multi-Layer Perceptron etc.)"
   ]
  },
  {
   "cell_type": "markdown",
   "id": "efba8650",
   "metadata": {},
   "source": [
    "## Appendix"
   ]
  },
  {
   "cell_type": "markdown",
   "id": "a133c1c3",
   "metadata": {},
   "source": [
    "### References"
   ]
  },
  {
   "cell_type": "markdown",
   "id": "9ed25f6d",
   "metadata": {},
   "source": [
    "* [Term Deposit Definition](https://www.investopedia.com/terms/t/termdeposit.asp#:~:text=A%20term%20deposit%20is%20a,levels%20of%20required%20minimum%20deposits.)\n",
    "\n",
    "* [Correlation for Categorical, Numeric and Mixed Data](https://towardsdatascience.com/the-search-for-categorical-correlation-a1cf7f1888c9)\n",
    "\n",
    "* [Precision and Recall](https://en.wikipedia.org/wiki/Precision_and_recall)\n",
    "\n",
    "* [SHAP value for model interpretibility](https://towardsdatascience.com/explain-your-model-with-the-shap-values-bc36aac4de3d)"
   ]
  }
 ],
 "metadata": {
  "kernelspec": {
   "display_name": "Python 3",
   "language": "python",
   "name": "python3"
  },
  "language_info": {
   "codemirror_mode": {
    "name": "ipython",
    "version": 3
   },
   "file_extension": ".py",
   "mimetype": "text/x-python",
   "name": "python",
   "nbconvert_exporter": "python",
   "pygments_lexer": "ipython3",
   "version": "3.8.8"
  },
  "toc": {
   "base_numbering": 1,
   "nav_menu": {},
   "number_sections": true,
   "sideBar": true,
   "skip_h1_title": false,
   "title_cell": "Table of Contents",
   "title_sidebar": "Contents",
   "toc_cell": false,
   "toc_position": {},
   "toc_section_display": true,
   "toc_window_display": true
  },
  "varInspector": {
   "cols": {
    "lenName": 16,
    "lenType": 16,
    "lenVar": 40
   },
   "kernels_config": {
    "python": {
     "delete_cmd_postfix": "",
     "delete_cmd_prefix": "del ",
     "library": "var_list.py",
     "varRefreshCmd": "print(var_dic_list())"
    },
    "r": {
     "delete_cmd_postfix": ") ",
     "delete_cmd_prefix": "rm(",
     "library": "var_list.r",
     "varRefreshCmd": "cat(var_dic_list()) "
    }
   },
   "types_to_exclude": [
    "module",
    "function",
    "builtin_function_or_method",
    "instance",
    "_Feature"
   ],
   "window_display": false
  }
 },
 "nbformat": 4,
 "nbformat_minor": 5
}
