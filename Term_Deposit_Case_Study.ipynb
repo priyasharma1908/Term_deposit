{
 "cells": [
  {
   "cell_type": "markdown",
   "id": "39650478",
   "metadata": {},
   "source": [
    "# Case Study - Term Deposit\n",
    "\n",
    "**Author:** Priya Sharma\n",
    "\n",
    "**Email:** priyasharma1908@gmail.com"
   ]
  },
  {
   "cell_type": "markdown",
   "id": "91cf1e88",
   "metadata": {},
   "source": [
    "## Objective"
   ]
  },
  {
   "cell_type": "markdown",
   "id": "5402c0b2",
   "metadata": {},
   "source": [
    "The objective of this report is to present the analysis and results from modeling client data to predict if client will subscribe to term deposit.\n",
    "\n",
    "We have followed the **scientific method** for this analysis and have broken down the steps as follows:\n",
    "\n",
    "* **Objective**\n",
    "\n",
    "* **Research**\n",
    "\n",
    "* **Hypothesis**\n",
    "\n",
    "* **Analysis**\n",
    "\n",
    "* **Conclusion**"
   ]
  },
  {
   "cell_type": "code",
   "execution_count": 1,
   "id": "41af334d",
   "metadata": {},
   "outputs": [],
   "source": [
    "# Loading required packages\n",
    "import numpy as np\n",
    "import pandas as pd\n",
    "import seaborn as sns\n",
    "import matplotlib.pyplot as plt\n",
    "import itertools\n",
    "import shap\n",
    "\n",
    "from dython.nominal import theils_u, correlation_ratio\n",
    "from pandas.api.types import is_numeric_dtype\n",
    "from scipy import stats\n",
    "from sklearn import tree\n",
    "\n",
    "from sklearn.model_selection import train_test_split\n",
    "from sklearn.model_selection import cross_validate\n",
    "from sklearn.model_selection import GridSearchCV\n",
    "from sklearn.preprocessing import MinMaxScaler\n",
    "from sklearn.preprocessing import OrdinalEncoder, LabelEncoder\n",
    "from sklearn.metrics import accuracy_score, precision_score, recall_score, f1_score\n",
    "\n",
    "from sklearn.linear_model import LogisticRegression\n",
    "from sklearn.tree import DecisionTreeClassifier\n",
    "\n",
    "from IPython.display import display, HTML\n",
    "\n",
    "import warnings\n",
    "warnings.filterwarnings('ignore')\n",
    "%matplotlib inline"
   ]
  },
  {
   "cell_type": "code",
   "execution_count": 2,
   "id": "28f6c718",
   "metadata": {},
   "outputs": [],
   "source": [
    "# Load dataset\n",
    "term_deposit_data = pd.read_csv(\"./bank-additional-full.csv\", sep=\";\")"
   ]
  },
  {
   "cell_type": "markdown",
   "id": "f1d22f08",
   "metadata": {},
   "source": [
    "## Research"
   ]
  },
  {
   "cell_type": "markdown",
   "id": "2bad672a",
   "metadata": {},
   "source": [
    "### Term Deposit"
   ]
  },
  {
   "cell_type": "markdown",
   "id": "6ef7652f",
   "metadata": {},
   "source": [
    "* A term deposit is a type of deposit account held at a financial institution where money is locked up for some set period of time.\n",
    "\n",
    "* Term deposits are usually short-term deposits with maturities ranging from one month to a few years.\n",
    "\n",
    "* Typically, term deposits offer higher interest rates than traditional liquid savings accounts, whereby customers can withdraw their money at any time."
   ]
  },
  {
   "cell_type": "code",
   "execution_count": null,
   "id": "27100298",
   "metadata": {},
   "outputs": [],
   "source": []
  }
 ],
 "metadata": {
  "kernelspec": {
   "display_name": "Python 3",
   "language": "python",
   "name": "python3"
  },
  "language_info": {
   "codemirror_mode": {
    "name": "ipython",
    "version": 3
   },
   "file_extension": ".py",
   "mimetype": "text/x-python",
   "name": "python",
   "nbconvert_exporter": "python",
   "pygments_lexer": "ipython3",
   "version": "3.8.8"
  },
  "toc": {
   "base_numbering": 1,
   "nav_menu": {},
   "number_sections": true,
   "sideBar": true,
   "skip_h1_title": false,
   "title_cell": "Table of Contents",
   "title_sidebar": "Contents",
   "toc_cell": false,
   "toc_position": {},
   "toc_section_display": true,
   "toc_window_display": false
  },
  "varInspector": {
   "cols": {
    "lenName": 16,
    "lenType": 16,
    "lenVar": 40
   },
   "kernels_config": {
    "python": {
     "delete_cmd_postfix": "",
     "delete_cmd_prefix": "del ",
     "library": "var_list.py",
     "varRefreshCmd": "print(var_dic_list())"
    },
    "r": {
     "delete_cmd_postfix": ") ",
     "delete_cmd_prefix": "rm(",
     "library": "var_list.r",
     "varRefreshCmd": "cat(var_dic_list()) "
    }
   },
   "types_to_exclude": [
    "module",
    "function",
    "builtin_function_or_method",
    "instance",
    "_Feature"
   ],
   "window_display": false
  }
 },
 "nbformat": 4,
 "nbformat_minor": 5
}
